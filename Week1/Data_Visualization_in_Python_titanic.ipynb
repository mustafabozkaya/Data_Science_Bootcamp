{
  "nbformat": 4,
  "nbformat_minor": 0,
  "metadata": {
    "colab": {
      "name": "Data_Visualization_in_Python.ipynb",
      "provenance": [],
      "collapsed_sections": [],
      "include_colab_link": true
    },
    "kernelspec": {
      "display_name": "Python 3",
      "language": "python",
      "name": "python3"
    },
    "language_info": {
      "codemirror_mode": {
        "name": "ipython",
        "version": 3
      },
      "file_extension": ".py",
      "mimetype": "text/x-python",
      "name": "python",
      "nbconvert_exporter": "python",
      "pygments_lexer": "ipython3",
      "version": "3.7.5"
    },
    "varInspector": {
      "cols": {
        "lenName": 16,
        "lenType": 16,
        "lenVar": 40
      },
      "kernels_config": {
        "python": {
          "delete_cmd_postfix": "",
          "delete_cmd_prefix": "del ",
          "library": "var_list.py",
          "varRefreshCmd": "print(var_dic_list())"
        },
        "r": {
          "delete_cmd_postfix": ") ",
          "delete_cmd_prefix": "rm(",
          "library": "var_list.r",
          "varRefreshCmd": "cat(var_dic_list()) "
        }
      },
      "types_to_exclude": [
        "module",
        "function",
        "builtin_function_or_method",
        "instance",
        "_Feature"
      ],
      "window_display": false
    }
  },
  "cells": [
    {
      "cell_type": "markdown",
      "metadata": {
        "id": "view-in-github",
        "colab_type": "text"
      },
      "source": [
        "<a href=\"https://colab.research.google.com/github/mustafabozkaya/Data_Science_Bootcamp/blob/master/Week1/Data_Visualization_in_Python_titanic.ipynb\" target=\"_parent\"><img src=\"https://colab.research.google.com/assets/colab-badge.svg\" alt=\"Open In Colab\"/></a>"
      ]
    },
    {
      "cell_type": "markdown",
      "metadata": {
        "id": "p4_ntQJgg4sx"
      },
      "source": [
        "# Week 1 \n",
        "# Data Visualization in Python with `Matplotlib` and `Seaborn`\n"
      ]
    },
    {
      "cell_type": "markdown",
      "metadata": {
        "id": "AeQD8rSMg4s0"
      },
      "source": [
        "**Data visualization** is the process of searching, interpreting, contrasting and comparing data that allows in-depth and detailed knowledge of the data in such a way that they become comprehensible information. There are several packages in Python for data visualization, among which are: \n",
        "- `Matplotlib`: It is the most used library for plotting in the Python community, despite having more than a decade of development. Because matplotlib was the first Python data visualization library, many other libraries are built on top of it. Some libraries like `pandas` and `Seaborn` are wrappers over `matplotlib`.\n",
        "- `Seaborn`: leverages matplotlib's ability to create aesthetic graphics in a few lines of code. The most palpable difference is Seaborn's default styles and color palettes, which are designed to be more aesthetically pleasing and modern.\n",
        "- `Pandas` plotting: allows data visualization through adaptations of the `matplotlib` library, facilitating the data aggregation and manipulation in a few lines of code.\n",
        "- `Plotly`: allows the data viusalization by interactive plots, offering additional chart configurations as contour plots, dendograms, and 3D charts.\n",
        "- `ggplot`: is based on *ggplot2* from R plotting system. `ggplot` operates differently than `matplotlib` and `seaborn`, making layers fromo its components to create a complete plot.\n",
        "- `Bokeh`: creates interactive, web-ready plots, which can be easily output as JSON objects, HTML documents, or interactive web applications, supporting streaming and real-time data.\n",
        "- `AstroPy`: is a collection of software packages written in the Python, and designed for use in astronomy.\n",
        "- `Gleam`: is inspired by R's Shiny package. It allows to turn analysis into interactive web applications using only Python scripts, avoiding the use of other languages like HTML, CSS, or JavaScript.\n",
        "- `Geoplotlib`: is a toolbox for creating maps and plotting geographical data by creating a variety of map-types, like choropleths, heatmaps, and dot density maps.\n",
        "- `Missingno`: allows to quickly gauge the completeness of a dataset with a visual summary, instead of trudging through a table.\n",
        "\n",
        "In this notebook we will be reviewing the data visualization process through `matplotlib` and `seaborn` packages, which are considerably malleable and very flexible, allowing a better understanding of the behavior of the plotted variables."
      ]
    },
    {
      "cell_type": "markdown",
      "metadata": {
        "id": "-nNd8rj0qAy9"
      },
      "source": [
        "## 1. Matplotlib"
      ]
    },
    {
      "cell_type": "markdown",
      "metadata": {
        "id": "y9oVEn3eXM-0"
      },
      "source": [
        "`Matplotlib` is a comprehensive library for creating static, animated, and interactive visualizations in Python. It is useful for those working with `Python` and `NumPy`. \n",
        "\n",
        "The most used module of `Matplotib` is `Pyplot` which provides an interface like MATLAB but instead, it uses Python and it is open source."
      ]
    },
    {
      "cell_type": "markdown",
      "metadata": {
        "id": "pz64R3YqqAy_"
      },
      "source": [
        "`matplotlib.pyplot` is a collection of command style functions that make `matplotlib` work like MATLAB. \n",
        "\n",
        "Each `pyplot` function makes some change to a figure: e.g., creates a figure, creates a plotting area in a figure, plots some lines in a plotting area, decorates the plot with labels, etc."
      ]
    },
    {
      "cell_type": "markdown",
      "metadata": {
        "id": "8G97dUdAqAzA"
      },
      "source": [
        "`Matplotlib`’s charts are made up of two main components:\n",
        "1. **The axes:** the lines that delimit the area of the chart\n",
        "2. **The figure:** where we draw the axes, titles and elements that come out of the area of the axes."
      ]
    },
    {
      "cell_type": "markdown",
      "metadata": {
        "id": "keAIJ_Ikg4tE"
      },
      "source": [
        "The general location of the elements in a `matplotlib` figure is as follows:"
      ]
    },
    {
      "cell_type": "markdown",
      "metadata": {
        "id": "6R482Odxg4tG"
      },
      "source": [
        "![Python_PlotFigure.png](https://www.ntu.edu.sg/home/ehchua/programming/webprogramming/images/Python_PlotFigure.png)\n",
        "<div style=\"font-size: 12px\", align=\"center\">\n",
        "    Figure 1. General location of elements in a Matplotlib chart. \n",
        "</div >"
      ]
    },
    {
      "cell_type": "markdown",
      "metadata": {
        "id": "TYKdumlVg4tH"
      },
      "source": [
        "In the following sections we will review how to graph with `matplotlib`"
      ]
    },
    {
      "cell_type": "markdown",
      "metadata": {
        "id": "SdG79euNqAzB"
      },
      "source": [
        "### 1.1. Installing `matplotlib`"
      ]
    },
    {
      "cell_type": "markdown",
      "metadata": {
        "id": "g8-E6HkAqAzD"
      },
      "source": [
        "Before Matplotlib's plotting functions can be used, `Matplotlib` needs to be installed. The Anaconda distribution of Python as well as Google Colab come with Matplotlib pre-installed and no further installation steps are necessary.\n",
        "\n",
        "However, if you're not using any of those, you can install it by running a simple `pip` command in your terminal:\n",
        "\n",
        "```pip install matplotlib```"
      ]
    },
    {
      "cell_type": "markdown",
      "metadata": {
        "id": "c-Wt7o9Mg4tL"
      },
      "source": [
        "### 1.2. Importing packages"
      ]
    },
    {
      "cell_type": "markdown",
      "metadata": {
        "id": "Kfz4x2wRg4tN"
      },
      "source": [
        "Just as we use the `np` shorthand for `NumPy` and the `pd` shorthand for `Pandas`, we will use the standard shorthand `plt` for the Matplotlib imports:"
      ]
    },
    {
      "cell_type": "code",
      "metadata": {
        "id": "PThTQwUaXM-1"
      },
      "source": [
        "import matplotlib.pyplot as plt\n",
        "import numpy as np\n",
        "import pandas as pd"
      ],
      "execution_count": 3,
      "outputs": []
    },
    {
      "cell_type": "markdown",
      "metadata": {
        "id": "FPp6azNrBr_o"
      },
      "source": [
        "### 1.3. Loading Dataset\n"
      ]
    },
    {
      "cell_type": "code",
      "metadata": {
        "id": "wjqKN43AHWCx"
      },
      "source": [
        "x =pd.read_csv(\"https://raw.githubusercontent.com/dphi-official/First_ML_Model/master/titanic.csv\", index_col = 'PassengerId')"
      ],
      "execution_count": 43,
      "outputs": []
    },
    {
      "cell_type": "code",
      "metadata": {
        "id": "uxBgn_aWHvds",
        "colab": {
          "base_uri": "https://localhost:8080/",
          "height": 238
        },
        "outputId": "05655778-41a7-4798-89c7-fc0c52bd8417"
      },
      "source": [
        "x.head() #check what all variables/fields are there in the dataset"
      ],
      "execution_count": 44,
      "outputs": [
        {
          "output_type": "execute_result",
          "data": {
            "text/plain": [
              "             Survived  Pclass  \\\n",
              "PassengerId                     \n",
              "1                   0       3   \n",
              "2                   1       1   \n",
              "3                   1       3   \n",
              "4                   1       1   \n",
              "5                   0       3   \n",
              "\n",
              "                                                          Name     Sex   Age  \\\n",
              "PassengerId                                                                    \n",
              "1                                      Braund, Mr. Owen Harris    male  22.0   \n",
              "2            Cumings, Mrs. John Bradley (Florence Briggs Th...  female  38.0   \n",
              "3                                       Heikkinen, Miss. Laina  female  26.0   \n",
              "4                 Futrelle, Mrs. Jacques Heath (Lily May Peel)  female  35.0   \n",
              "5                                     Allen, Mr. William Henry    male  35.0   \n",
              "\n",
              "             SibSp  Parch            Ticket     Fare Cabin Embarked  \n",
              "PassengerId                                                          \n",
              "1                1      0         A/5 21171   7.2500   NaN        S  \n",
              "2                1      0          PC 17599  71.2833   C85        C  \n",
              "3                0      0  STON/O2. 3101282   7.9250   NaN        S  \n",
              "4                1      0            113803  53.1000  C123        S  \n",
              "5                0      0            373450   8.0500   NaN        S  "
            ],
            "text/html": [
              "\n",
              "  <div id=\"df-ae861536-9e6f-4ba7-8318-e60b68bd922c\">\n",
              "    <div class=\"colab-df-container\">\n",
              "      <div>\n",
              "<style scoped>\n",
              "    .dataframe tbody tr th:only-of-type {\n",
              "        vertical-align: middle;\n",
              "    }\n",
              "\n",
              "    .dataframe tbody tr th {\n",
              "        vertical-align: top;\n",
              "    }\n",
              "\n",
              "    .dataframe thead th {\n",
              "        text-align: right;\n",
              "    }\n",
              "</style>\n",
              "<table border=\"1\" class=\"dataframe\">\n",
              "  <thead>\n",
              "    <tr style=\"text-align: right;\">\n",
              "      <th></th>\n",
              "      <th>Survived</th>\n",
              "      <th>Pclass</th>\n",
              "      <th>Name</th>\n",
              "      <th>Sex</th>\n",
              "      <th>Age</th>\n",
              "      <th>SibSp</th>\n",
              "      <th>Parch</th>\n",
              "      <th>Ticket</th>\n",
              "      <th>Fare</th>\n",
              "      <th>Cabin</th>\n",
              "      <th>Embarked</th>\n",
              "    </tr>\n",
              "    <tr>\n",
              "      <th>PassengerId</th>\n",
              "      <th></th>\n",
              "      <th></th>\n",
              "      <th></th>\n",
              "      <th></th>\n",
              "      <th></th>\n",
              "      <th></th>\n",
              "      <th></th>\n",
              "      <th></th>\n",
              "      <th></th>\n",
              "      <th></th>\n",
              "      <th></th>\n",
              "    </tr>\n",
              "  </thead>\n",
              "  <tbody>\n",
              "    <tr>\n",
              "      <th>1</th>\n",
              "      <td>0</td>\n",
              "      <td>3</td>\n",
              "      <td>Braund, Mr. Owen Harris</td>\n",
              "      <td>male</td>\n",
              "      <td>22.0</td>\n",
              "      <td>1</td>\n",
              "      <td>0</td>\n",
              "      <td>A/5 21171</td>\n",
              "      <td>7.2500</td>\n",
              "      <td>NaN</td>\n",
              "      <td>S</td>\n",
              "    </tr>\n",
              "    <tr>\n",
              "      <th>2</th>\n",
              "      <td>1</td>\n",
              "      <td>1</td>\n",
              "      <td>Cumings, Mrs. John Bradley (Florence Briggs Th...</td>\n",
              "      <td>female</td>\n",
              "      <td>38.0</td>\n",
              "      <td>1</td>\n",
              "      <td>0</td>\n",
              "      <td>PC 17599</td>\n",
              "      <td>71.2833</td>\n",
              "      <td>C85</td>\n",
              "      <td>C</td>\n",
              "    </tr>\n",
              "    <tr>\n",
              "      <th>3</th>\n",
              "      <td>1</td>\n",
              "      <td>3</td>\n",
              "      <td>Heikkinen, Miss. Laina</td>\n",
              "      <td>female</td>\n",
              "      <td>26.0</td>\n",
              "      <td>0</td>\n",
              "      <td>0</td>\n",
              "      <td>STON/O2. 3101282</td>\n",
              "      <td>7.9250</td>\n",
              "      <td>NaN</td>\n",
              "      <td>S</td>\n",
              "    </tr>\n",
              "    <tr>\n",
              "      <th>4</th>\n",
              "      <td>1</td>\n",
              "      <td>1</td>\n",
              "      <td>Futrelle, Mrs. Jacques Heath (Lily May Peel)</td>\n",
              "      <td>female</td>\n",
              "      <td>35.0</td>\n",
              "      <td>1</td>\n",
              "      <td>0</td>\n",
              "      <td>113803</td>\n",
              "      <td>53.1000</td>\n",
              "      <td>C123</td>\n",
              "      <td>S</td>\n",
              "    </tr>\n",
              "    <tr>\n",
              "      <th>5</th>\n",
              "      <td>0</td>\n",
              "      <td>3</td>\n",
              "      <td>Allen, Mr. William Henry</td>\n",
              "      <td>male</td>\n",
              "      <td>35.0</td>\n",
              "      <td>0</td>\n",
              "      <td>0</td>\n",
              "      <td>373450</td>\n",
              "      <td>8.0500</td>\n",
              "      <td>NaN</td>\n",
              "      <td>S</td>\n",
              "    </tr>\n",
              "  </tbody>\n",
              "</table>\n",
              "</div>\n",
              "      <button class=\"colab-df-convert\" onclick=\"convertToInteractive('df-ae861536-9e6f-4ba7-8318-e60b68bd922c')\"\n",
              "              title=\"Convert this dataframe to an interactive table.\"\n",
              "              style=\"display:none;\">\n",
              "        \n",
              "  <svg xmlns=\"http://www.w3.org/2000/svg\" height=\"24px\"viewBox=\"0 0 24 24\"\n",
              "       width=\"24px\">\n",
              "    <path d=\"M0 0h24v24H0V0z\" fill=\"none\"/>\n",
              "    <path d=\"M18.56 5.44l.94 2.06.94-2.06 2.06-.94-2.06-.94-.94-2.06-.94 2.06-2.06.94zm-11 1L8.5 8.5l.94-2.06 2.06-.94-2.06-.94L8.5 2.5l-.94 2.06-2.06.94zm10 10l.94 2.06.94-2.06 2.06-.94-2.06-.94-.94-2.06-.94 2.06-2.06.94z\"/><path d=\"M17.41 7.96l-1.37-1.37c-.4-.4-.92-.59-1.43-.59-.52 0-1.04.2-1.43.59L10.3 9.45l-7.72 7.72c-.78.78-.78 2.05 0 2.83L4 21.41c.39.39.9.59 1.41.59.51 0 1.02-.2 1.41-.59l7.78-7.78 2.81-2.81c.8-.78.8-2.07 0-2.86zM5.41 20L4 18.59l7.72-7.72 1.47 1.35L5.41 20z\"/>\n",
              "  </svg>\n",
              "      </button>\n",
              "      \n",
              "  <style>\n",
              "    .colab-df-container {\n",
              "      display:flex;\n",
              "      flex-wrap:wrap;\n",
              "      gap: 12px;\n",
              "    }\n",
              "\n",
              "    .colab-df-convert {\n",
              "      background-color: #E8F0FE;\n",
              "      border: none;\n",
              "      border-radius: 50%;\n",
              "      cursor: pointer;\n",
              "      display: none;\n",
              "      fill: #1967D2;\n",
              "      height: 32px;\n",
              "      padding: 0 0 0 0;\n",
              "      width: 32px;\n",
              "    }\n",
              "\n",
              "    .colab-df-convert:hover {\n",
              "      background-color: #E2EBFA;\n",
              "      box-shadow: 0px 1px 2px rgba(60, 64, 67, 0.3), 0px 1px 3px 1px rgba(60, 64, 67, 0.15);\n",
              "      fill: #174EA6;\n",
              "    }\n",
              "\n",
              "    [theme=dark] .colab-df-convert {\n",
              "      background-color: #3B4455;\n",
              "      fill: #D2E3FC;\n",
              "    }\n",
              "\n",
              "    [theme=dark] .colab-df-convert:hover {\n",
              "      background-color: #434B5C;\n",
              "      box-shadow: 0px 1px 3px 1px rgba(0, 0, 0, 0.15);\n",
              "      filter: drop-shadow(0px 1px 2px rgba(0, 0, 0, 0.3));\n",
              "      fill: #FFFFFF;\n",
              "    }\n",
              "  </style>\n",
              "\n",
              "      <script>\n",
              "        const buttonEl =\n",
              "          document.querySelector('#df-ae861536-9e6f-4ba7-8318-e60b68bd922c button.colab-df-convert');\n",
              "        buttonEl.style.display =\n",
              "          google.colab.kernel.accessAllowed ? 'block' : 'none';\n",
              "\n",
              "        async function convertToInteractive(key) {\n",
              "          const element = document.querySelector('#df-ae861536-9e6f-4ba7-8318-e60b68bd922c');\n",
              "          const dataTable =\n",
              "            await google.colab.kernel.invokeFunction('convertToInteractive',\n",
              "                                                     [key], {});\n",
              "          if (!dataTable) return;\n",
              "\n",
              "          const docLinkHtml = 'Like what you see? Visit the ' +\n",
              "            '<a target=\"_blank\" href=https://colab.research.google.com/notebooks/data_table.ipynb>data table notebook</a>'\n",
              "            + ' to learn more about interactive tables.';\n",
              "          element.innerHTML = '';\n",
              "          dataTable['output_type'] = 'display_data';\n",
              "          await google.colab.output.renderOutput(dataTable, element);\n",
              "          const docLink = document.createElement('div');\n",
              "          docLink.innerHTML = docLinkHtml;\n",
              "          element.appendChild(docLink);\n",
              "        }\n",
              "      </script>\n",
              "    </div>\n",
              "  </div>\n",
              "  "
            ]
          },
          "metadata": {},
          "execution_count": 44
        }
      ]
    },
    {
      "cell_type": "code",
      "source": [
        "x.info()"
      ],
      "metadata": {
        "id": "X9TaeF3Gu_dM",
        "outputId": "a7a2cd58-38c8-4201-9856-7d50446fce19",
        "colab": {
          "base_uri": "https://localhost:8080/"
        }
      },
      "execution_count": 45,
      "outputs": [
        {
          "output_type": "stream",
          "name": "stdout",
          "text": [
            "<class 'pandas.core.frame.DataFrame'>\n",
            "Int64Index: 891 entries, 1 to 891\n",
            "Data columns (total 11 columns):\n",
            " #   Column    Non-Null Count  Dtype  \n",
            "---  ------    --------------  -----  \n",
            " 0   Survived  891 non-null    int64  \n",
            " 1   Pclass    891 non-null    int64  \n",
            " 2   Name      891 non-null    object \n",
            " 3   Sex       891 non-null    object \n",
            " 4   Age       714 non-null    float64\n",
            " 5   SibSp     891 non-null    int64  \n",
            " 6   Parch     891 non-null    int64  \n",
            " 7   Ticket    891 non-null    object \n",
            " 8   Fare      891 non-null    float64\n",
            " 9   Cabin     204 non-null    object \n",
            " 10  Embarked  889 non-null    object \n",
            "dtypes: float64(2), int64(4), object(5)\n",
            "memory usage: 83.5+ KB\n"
          ]
        }
      ]
    },
    {
      "cell_type": "code",
      "source": [
        "x.Name.nunique()"
      ],
      "metadata": {
        "id": "rG1LKiVlyQee",
        "outputId": "f832cbd2-88eb-47b7-b01e-8c7437a708d5",
        "colab": {
          "base_uri": "https://localhost:8080/"
        }
      },
      "execution_count": 64,
      "outputs": [
        {
          "output_type": "execute_result",
          "data": {
            "text/plain": [
              "891"
            ]
          },
          "metadata": {},
          "execution_count": 64
        }
      ]
    },
    {
      "cell_type": "code",
      "source": [
        "x.sort_values(\"Fare\",ascending=\"False\")"
      ],
      "metadata": {
        "id": "5XaDarPAyZmw",
        "outputId": "4fd7b4bc-6c2d-40f8-e86f-a71afd3672fb",
        "colab": {
          "base_uri": "https://localhost:8080/",
          "height": 455
        }
      },
      "execution_count": 67,
      "outputs": [
        {
          "output_type": "execute_result",
          "data": {
            "text/plain": [
              "             Survived  Pclass                                Name     Sex  \\\n",
              "PassengerId                                                                 \n",
              "272                 1       3        Tornquist, Mr. William Henry    male   \n",
              "598                 0       3                 Johnson, Mr. Alfred    male   \n",
              "303                 0       3     Johnson, Mr. William Cahoone Jr    male   \n",
              "634                 0       1       Parr, Mr. William Henry Marsh    male   \n",
              "278                 0       2         Parkes, Mr. Francis \"Frank\"    male   \n",
              "...               ...     ...                                 ...     ...   \n",
              "439                 0       1                   Fortune, Mr. Mark    male   \n",
              "342                 1       1      Fortune, Miss. Alice Elizabeth  female   \n",
              "738                 1       1              Lesurer, Mr. Gustave J    male   \n",
              "259                 1       1                    Ward, Miss. Anna  female   \n",
              "680                 1       1  Cardeza, Mr. Thomas Drake Martinez    male   \n",
              "\n",
              "              Age  SibSp  Parch    Ticket      Fare        Cabin Embarked  \n",
              "PassengerId                                                                \n",
              "272          25.0      0      0      LINE    0.0000          NaN        S  \n",
              "598          49.0      0      0      LINE    0.0000          NaN        S  \n",
              "303          19.0      0      0      LINE    0.0000          NaN        S  \n",
              "634           NaN      0      0    112052    0.0000          NaN        S  \n",
              "278           NaN      0      0    239853    0.0000          NaN        S  \n",
              "...           ...    ...    ...       ...       ...          ...      ...  \n",
              "439          64.0      1      4     19950  263.0000  C23 C25 C27        S  \n",
              "342          24.0      3      2     19950  263.0000  C23 C25 C27        S  \n",
              "738          35.0      0      0  PC 17755  512.3292         B101        C  \n",
              "259          35.0      0      0  PC 17755  512.3292          NaN        C  \n",
              "680          36.0      0      1  PC 17755  512.3292  B51 B53 B55        C  \n",
              "\n",
              "[891 rows x 11 columns]"
            ],
            "text/html": [
              "\n",
              "  <div id=\"df-0054c47b-51ed-446a-ac7b-851ff820e5ab\">\n",
              "    <div class=\"colab-df-container\">\n",
              "      <div>\n",
              "<style scoped>\n",
              "    .dataframe tbody tr th:only-of-type {\n",
              "        vertical-align: middle;\n",
              "    }\n",
              "\n",
              "    .dataframe tbody tr th {\n",
              "        vertical-align: top;\n",
              "    }\n",
              "\n",
              "    .dataframe thead th {\n",
              "        text-align: right;\n",
              "    }\n",
              "</style>\n",
              "<table border=\"1\" class=\"dataframe\">\n",
              "  <thead>\n",
              "    <tr style=\"text-align: right;\">\n",
              "      <th></th>\n",
              "      <th>Survived</th>\n",
              "      <th>Pclass</th>\n",
              "      <th>Name</th>\n",
              "      <th>Sex</th>\n",
              "      <th>Age</th>\n",
              "      <th>SibSp</th>\n",
              "      <th>Parch</th>\n",
              "      <th>Ticket</th>\n",
              "      <th>Fare</th>\n",
              "      <th>Cabin</th>\n",
              "      <th>Embarked</th>\n",
              "    </tr>\n",
              "    <tr>\n",
              "      <th>PassengerId</th>\n",
              "      <th></th>\n",
              "      <th></th>\n",
              "      <th></th>\n",
              "      <th></th>\n",
              "      <th></th>\n",
              "      <th></th>\n",
              "      <th></th>\n",
              "      <th></th>\n",
              "      <th></th>\n",
              "      <th></th>\n",
              "      <th></th>\n",
              "    </tr>\n",
              "  </thead>\n",
              "  <tbody>\n",
              "    <tr>\n",
              "      <th>272</th>\n",
              "      <td>1</td>\n",
              "      <td>3</td>\n",
              "      <td>Tornquist, Mr. William Henry</td>\n",
              "      <td>male</td>\n",
              "      <td>25.0</td>\n",
              "      <td>0</td>\n",
              "      <td>0</td>\n",
              "      <td>LINE</td>\n",
              "      <td>0.0000</td>\n",
              "      <td>NaN</td>\n",
              "      <td>S</td>\n",
              "    </tr>\n",
              "    <tr>\n",
              "      <th>598</th>\n",
              "      <td>0</td>\n",
              "      <td>3</td>\n",
              "      <td>Johnson, Mr. Alfred</td>\n",
              "      <td>male</td>\n",
              "      <td>49.0</td>\n",
              "      <td>0</td>\n",
              "      <td>0</td>\n",
              "      <td>LINE</td>\n",
              "      <td>0.0000</td>\n",
              "      <td>NaN</td>\n",
              "      <td>S</td>\n",
              "    </tr>\n",
              "    <tr>\n",
              "      <th>303</th>\n",
              "      <td>0</td>\n",
              "      <td>3</td>\n",
              "      <td>Johnson, Mr. William Cahoone Jr</td>\n",
              "      <td>male</td>\n",
              "      <td>19.0</td>\n",
              "      <td>0</td>\n",
              "      <td>0</td>\n",
              "      <td>LINE</td>\n",
              "      <td>0.0000</td>\n",
              "      <td>NaN</td>\n",
              "      <td>S</td>\n",
              "    </tr>\n",
              "    <tr>\n",
              "      <th>634</th>\n",
              "      <td>0</td>\n",
              "      <td>1</td>\n",
              "      <td>Parr, Mr. William Henry Marsh</td>\n",
              "      <td>male</td>\n",
              "      <td>NaN</td>\n",
              "      <td>0</td>\n",
              "      <td>0</td>\n",
              "      <td>112052</td>\n",
              "      <td>0.0000</td>\n",
              "      <td>NaN</td>\n",
              "      <td>S</td>\n",
              "    </tr>\n",
              "    <tr>\n",
              "      <th>278</th>\n",
              "      <td>0</td>\n",
              "      <td>2</td>\n",
              "      <td>Parkes, Mr. Francis \"Frank\"</td>\n",
              "      <td>male</td>\n",
              "      <td>NaN</td>\n",
              "      <td>0</td>\n",
              "      <td>0</td>\n",
              "      <td>239853</td>\n",
              "      <td>0.0000</td>\n",
              "      <td>NaN</td>\n",
              "      <td>S</td>\n",
              "    </tr>\n",
              "    <tr>\n",
              "      <th>...</th>\n",
              "      <td>...</td>\n",
              "      <td>...</td>\n",
              "      <td>...</td>\n",
              "      <td>...</td>\n",
              "      <td>...</td>\n",
              "      <td>...</td>\n",
              "      <td>...</td>\n",
              "      <td>...</td>\n",
              "      <td>...</td>\n",
              "      <td>...</td>\n",
              "      <td>...</td>\n",
              "    </tr>\n",
              "    <tr>\n",
              "      <th>439</th>\n",
              "      <td>0</td>\n",
              "      <td>1</td>\n",
              "      <td>Fortune, Mr. Mark</td>\n",
              "      <td>male</td>\n",
              "      <td>64.0</td>\n",
              "      <td>1</td>\n",
              "      <td>4</td>\n",
              "      <td>19950</td>\n",
              "      <td>263.0000</td>\n",
              "      <td>C23 C25 C27</td>\n",
              "      <td>S</td>\n",
              "    </tr>\n",
              "    <tr>\n",
              "      <th>342</th>\n",
              "      <td>1</td>\n",
              "      <td>1</td>\n",
              "      <td>Fortune, Miss. Alice Elizabeth</td>\n",
              "      <td>female</td>\n",
              "      <td>24.0</td>\n",
              "      <td>3</td>\n",
              "      <td>2</td>\n",
              "      <td>19950</td>\n",
              "      <td>263.0000</td>\n",
              "      <td>C23 C25 C27</td>\n",
              "      <td>S</td>\n",
              "    </tr>\n",
              "    <tr>\n",
              "      <th>738</th>\n",
              "      <td>1</td>\n",
              "      <td>1</td>\n",
              "      <td>Lesurer, Mr. Gustave J</td>\n",
              "      <td>male</td>\n",
              "      <td>35.0</td>\n",
              "      <td>0</td>\n",
              "      <td>0</td>\n",
              "      <td>PC 17755</td>\n",
              "      <td>512.3292</td>\n",
              "      <td>B101</td>\n",
              "      <td>C</td>\n",
              "    </tr>\n",
              "    <tr>\n",
              "      <th>259</th>\n",
              "      <td>1</td>\n",
              "      <td>1</td>\n",
              "      <td>Ward, Miss. Anna</td>\n",
              "      <td>female</td>\n",
              "      <td>35.0</td>\n",
              "      <td>0</td>\n",
              "      <td>0</td>\n",
              "      <td>PC 17755</td>\n",
              "      <td>512.3292</td>\n",
              "      <td>NaN</td>\n",
              "      <td>C</td>\n",
              "    </tr>\n",
              "    <tr>\n",
              "      <th>680</th>\n",
              "      <td>1</td>\n",
              "      <td>1</td>\n",
              "      <td>Cardeza, Mr. Thomas Drake Martinez</td>\n",
              "      <td>male</td>\n",
              "      <td>36.0</td>\n",
              "      <td>0</td>\n",
              "      <td>1</td>\n",
              "      <td>PC 17755</td>\n",
              "      <td>512.3292</td>\n",
              "      <td>B51 B53 B55</td>\n",
              "      <td>C</td>\n",
              "    </tr>\n",
              "  </tbody>\n",
              "</table>\n",
              "<p>891 rows × 11 columns</p>\n",
              "</div>\n",
              "      <button class=\"colab-df-convert\" onclick=\"convertToInteractive('df-0054c47b-51ed-446a-ac7b-851ff820e5ab')\"\n",
              "              title=\"Convert this dataframe to an interactive table.\"\n",
              "              style=\"display:none;\">\n",
              "        \n",
              "  <svg xmlns=\"http://www.w3.org/2000/svg\" height=\"24px\"viewBox=\"0 0 24 24\"\n",
              "       width=\"24px\">\n",
              "    <path d=\"M0 0h24v24H0V0z\" fill=\"none\"/>\n",
              "    <path d=\"M18.56 5.44l.94 2.06.94-2.06 2.06-.94-2.06-.94-.94-2.06-.94 2.06-2.06.94zm-11 1L8.5 8.5l.94-2.06 2.06-.94-2.06-.94L8.5 2.5l-.94 2.06-2.06.94zm10 10l.94 2.06.94-2.06 2.06-.94-2.06-.94-.94-2.06-.94 2.06-2.06.94z\"/><path d=\"M17.41 7.96l-1.37-1.37c-.4-.4-.92-.59-1.43-.59-.52 0-1.04.2-1.43.59L10.3 9.45l-7.72 7.72c-.78.78-.78 2.05 0 2.83L4 21.41c.39.39.9.59 1.41.59.51 0 1.02-.2 1.41-.59l7.78-7.78 2.81-2.81c.8-.78.8-2.07 0-2.86zM5.41 20L4 18.59l7.72-7.72 1.47 1.35L5.41 20z\"/>\n",
              "  </svg>\n",
              "      </button>\n",
              "      \n",
              "  <style>\n",
              "    .colab-df-container {\n",
              "      display:flex;\n",
              "      flex-wrap:wrap;\n",
              "      gap: 12px;\n",
              "    }\n",
              "\n",
              "    .colab-df-convert {\n",
              "      background-color: #E8F0FE;\n",
              "      border: none;\n",
              "      border-radius: 50%;\n",
              "      cursor: pointer;\n",
              "      display: none;\n",
              "      fill: #1967D2;\n",
              "      height: 32px;\n",
              "      padding: 0 0 0 0;\n",
              "      width: 32px;\n",
              "    }\n",
              "\n",
              "    .colab-df-convert:hover {\n",
              "      background-color: #E2EBFA;\n",
              "      box-shadow: 0px 1px 2px rgba(60, 64, 67, 0.3), 0px 1px 3px 1px rgba(60, 64, 67, 0.15);\n",
              "      fill: #174EA6;\n",
              "    }\n",
              "\n",
              "    [theme=dark] .colab-df-convert {\n",
              "      background-color: #3B4455;\n",
              "      fill: #D2E3FC;\n",
              "    }\n",
              "\n",
              "    [theme=dark] .colab-df-convert:hover {\n",
              "      background-color: #434B5C;\n",
              "      box-shadow: 0px 1px 3px 1px rgba(0, 0, 0, 0.15);\n",
              "      filter: drop-shadow(0px 1px 2px rgba(0, 0, 0, 0.3));\n",
              "      fill: #FFFFFF;\n",
              "    }\n",
              "  </style>\n",
              "\n",
              "      <script>\n",
              "        const buttonEl =\n",
              "          document.querySelector('#df-0054c47b-51ed-446a-ac7b-851ff820e5ab button.colab-df-convert');\n",
              "        buttonEl.style.display =\n",
              "          google.colab.kernel.accessAllowed ? 'block' : 'none';\n",
              "\n",
              "        async function convertToInteractive(key) {\n",
              "          const element = document.querySelector('#df-0054c47b-51ed-446a-ac7b-851ff820e5ab');\n",
              "          const dataTable =\n",
              "            await google.colab.kernel.invokeFunction('convertToInteractive',\n",
              "                                                     [key], {});\n",
              "          if (!dataTable) return;\n",
              "\n",
              "          const docLinkHtml = 'Like what you see? Visit the ' +\n",
              "            '<a target=\"_blank\" href=https://colab.research.google.com/notebooks/data_table.ipynb>data table notebook</a>'\n",
              "            + ' to learn more about interactive tables.';\n",
              "          element.innerHTML = '';\n",
              "          dataTable['output_type'] = 'display_data';\n",
              "          await google.colab.output.renderOutput(dataTable, element);\n",
              "          const docLink = document.createElement('div');\n",
              "          docLink.innerHTML = docLinkHtml;\n",
              "          element.appendChild(docLink);\n",
              "        }\n",
              "      </script>\n",
              "    </div>\n",
              "  </div>\n",
              "  "
            ]
          },
          "metadata": {},
          "execution_count": 67
        }
      ]
    },
    {
      "cell_type": "code",
      "source": [
        "sns.heatmap(x.corr())"
      ],
      "metadata": {
        "id": "2Se39n3Py2wC",
        "outputId": "be2e3d06-fd55-4aa7-ab7d-8781ccf34ecf",
        "colab": {
          "base_uri": "https://localhost:8080/",
          "height": 286
        }
      },
      "execution_count": 69,
      "outputs": [
        {
          "output_type": "execute_result",
          "data": {
            "text/plain": [
              "<matplotlib.axes._subplots.AxesSubplot at 0x7fbb86e6c390>"
            ]
          },
          "metadata": {},
          "execution_count": 69
        },
        {
          "output_type": "display_data",
          "data": {
            "text/plain": [
              "<Figure size 432x288 with 2 Axes>"
            ],
            "image/png": "[encoded data removed]"
          },
          "metadata": {
            "needs_background": "light"
          }
        }
      ]
    },
    {
      "cell_type": "code",
      "source": [
        "x.describe()"
      ],
      "metadata": {
        "id": "yDufhwnqw2YR",
        "outputId": "968a4158-407a-4533-ace1-30e9c200bd86",
        "colab": {
          "base_uri": "https://localhost:8080/",
          "height": 300
        }
      },
      "execution_count": 58,
      "outputs": [
        {
          "output_type": "execute_result",
          "data": {
            "text/plain": [
              "         Survived      Pclass         Age       SibSp       Parch        Fare\n",
              "count  891.000000  891.000000  714.000000  891.000000  891.000000  891.000000\n",
              "mean     0.383838    2.308642   29.699118    0.523008    0.381594   32.204208\n",
              "std      0.486592    0.836071   14.526497    1.102743    0.806057   49.693429\n",
              "min      0.000000    1.000000    0.420000    0.000000    0.000000    0.000000\n",
              "25%      0.000000    2.000000   20.125000    0.000000    0.000000    7.910400\n",
              "50%      0.000000    3.000000   28.000000    0.000000    0.000000   14.454200\n",
              "75%      1.000000    3.000000   38.000000    1.000000    0.000000   31.000000\n",
              "max      1.000000    3.000000   80.000000    8.000000    6.000000  512.329200"
            ],
            "text/html": [
              "\n",
              "  <div id=\"df-d746f576-b1e3-42cf-8403-a516160b0e0b\">\n",
              "    <div class=\"colab-df-container\">\n",
              "      <div>\n",
              "<style scoped>\n",
              "    .dataframe tbody tr th:only-of-type {\n",
              "        vertical-align: middle;\n",
              "    }\n",
              "\n",
              "    .dataframe tbody tr th {\n",
              "        vertical-align: top;\n",
              "    }\n",
              "\n",
              "    .dataframe thead th {\n",
              "        text-align: right;\n",
              "    }\n",
              "</style>\n",
              "<table border=\"1\" class=\"dataframe\">\n",
              "  <thead>\n",
              "    <tr style=\"text-align: right;\">\n",
              "      <th></th>\n",
              "      <th>Survived</th>\n",
              "      <th>Pclass</th>\n",
              "      <th>Age</th>\n",
              "      <th>SibSp</th>\n",
              "      <th>Parch</th>\n",
              "      <th>Fare</th>\n",
              "    </tr>\n",
              "  </thead>\n",
              "  <tbody>\n",
              "    <tr>\n",
              "      <th>count</th>\n",
              "      <td>891.000000</td>\n",
              "      <td>891.000000</td>\n",
              "      <td>714.000000</td>\n",
              "      <td>891.000000</td>\n",
              "      <td>891.000000</td>\n",
              "      <td>891.000000</td>\n",
              "    </tr>\n",
              "    <tr>\n",
              "      <th>mean</th>\n",
              "      <td>0.383838</td>\n",
              "      <td>2.308642</td>\n",
              "      <td>29.699118</td>\n",
              "      <td>0.523008</td>\n",
              "      <td>0.381594</td>\n",
              "      <td>32.204208</td>\n",
              "    </tr>\n",
              "    <tr>\n",
              "      <th>std</th>\n",
              "      <td>0.486592</td>\n",
              "      <td>0.836071</td>\n",
              "      <td>14.526497</td>\n",
              "      <td>1.102743</td>\n",
              "      <td>0.806057</td>\n",
              "      <td>49.693429</td>\n",
              "    </tr>\n",
              "    <tr>\n",
              "      <th>min</th>\n",
              "      <td>0.000000</td>\n",
              "      <td>1.000000</td>\n",
              "      <td>0.420000</td>\n",
              "      <td>0.000000</td>\n",
              "      <td>0.000000</td>\n",
              "      <td>0.000000</td>\n",
              "    </tr>\n",
              "    <tr>\n",
              "      <th>25%</th>\n",
              "      <td>0.000000</td>\n",
              "      <td>2.000000</td>\n",
              "      <td>20.125000</td>\n",
              "      <td>0.000000</td>\n",
              "      <td>0.000000</td>\n",
              "      <td>7.910400</td>\n",
              "    </tr>\n",
              "    <tr>\n",
              "      <th>50%</th>\n",
              "      <td>0.000000</td>\n",
              "      <td>3.000000</td>\n",
              "      <td>28.000000</td>\n",
              "      <td>0.000000</td>\n",
              "      <td>0.000000</td>\n",
              "      <td>14.454200</td>\n",
              "    </tr>\n",
              "    <tr>\n",
              "      <th>75%</th>\n",
              "      <td>1.000000</td>\n",
              "      <td>3.000000</td>\n",
              "      <td>38.000000</td>\n",
              "      <td>1.000000</td>\n",
              "      <td>0.000000</td>\n",
              "      <td>31.000000</td>\n",
              "    </tr>\n",
              "    <tr>\n",
              "      <th>max</th>\n",
              "      <td>1.000000</td>\n",
              "      <td>3.000000</td>\n",
              "      <td>80.000000</td>\n",
              "      <td>8.000000</td>\n",
              "      <td>6.000000</td>\n",
              "      <td>512.329200</td>\n",
              "    </tr>\n",
              "  </tbody>\n",
              "</table>\n",
              "</div>\n",
              "      <button class=\"colab-df-convert\" onclick=\"convertToInteractive('df-d746f576-b1e3-42cf-8403-a516160b0e0b')\"\n",
              "              title=\"Convert this dataframe to an interactive table.\"\n",
              "              style=\"display:none;\">\n",
              "        \n",
              "  <svg xmlns=\"http://www.w3.org/2000/svg\" height=\"24px\"viewBox=\"0 0 24 24\"\n",
              "       width=\"24px\">\n",
              "    <path d=\"M0 0h24v24H0V0z\" fill=\"none\"/>\n",
              "    <path d=\"M18.56 5.44l.94 2.06.94-2.06 2.06-.94-2.06-.94-.94-2.06-.94 2.06-2.06.94zm-11 1L8.5 8.5l.94-2.06 2.06-.94-2.06-.94L8.5 2.5l-.94 2.06-2.06.94zm10 10l.94 2.06.94-2.06 2.06-.94-2.06-.94-.94-2.06-.94 2.06-2.06.94z\"/><path d=\"M17.41 7.96l-1.37-1.37c-.4-.4-.92-.59-1.43-.59-.52 0-1.04.2-1.43.59L10.3 9.45l-7.72 7.72c-.78.78-.78 2.05 0 2.83L4 21.41c.39.39.9.59 1.41.59.51 0 1.02-.2 1.41-.59l7.78-7.78 2.81-2.81c.8-.78.8-2.07 0-2.86zM5.41 20L4 18.59l7.72-7.72 1.47 1.35L5.41 20z\"/>\n",
              "  </svg>\n",
              "      </button>\n",
              "      \n",
              "  <style>\n",
              "    .colab-df-container {\n",
              "      display:flex;\n",
              "      flex-wrap:wrap;\n",
              "      gap: 12px;\n",
              "    }\n",
              "\n",
              "    .colab-df-convert {\n",
              "      background-color: #E8F0FE;\n",
              "      border: none;\n",
              "      border-radius: 50%;\n",
              "      cursor: pointer;\n",
              "      display: none;\n",
              "      fill: #1967D2;\n",
              "      height: 32px;\n",
              "      padding: 0 0 0 0;\n",
              "      width: 32px;\n",
              "    }\n",
              "\n",
              "    .colab-df-convert:hover {\n",
              "      background-color: #E2EBFA;\n",
              "      box-shadow: 0px 1px 2px rgba(60, 64, 67, 0.3), 0px 1px 3px 1px rgba(60, 64, 67, 0.15);\n",
              "      fill: #174EA6;\n",
              "    }\n",
              "\n",
              "    [theme=dark] .colab-df-convert {\n",
              "      background-color: #3B4455;\n",
              "      fill: #D2E3FC;\n",
              "    }\n",
              "\n",
              "    [theme=dark] .colab-df-convert:hover {\n",
              "      background-color: #434B5C;\n",
              "      box-shadow: 0px 1px 3px 1px rgba(0, 0, 0, 0.15);\n",
              "      filter: drop-shadow(0px 1px 2px rgba(0, 0, 0, 0.3));\n",
              "      fill: #FFFFFF;\n",
              "    }\n",
              "  </style>\n",
              "\n",
              "      <script>\n",
              "        const buttonEl =\n",
              "          document.querySelector('#df-d746f576-b1e3-42cf-8403-a516160b0e0b button.colab-df-convert');\n",
              "        buttonEl.style.display =\n",
              "          google.colab.kernel.accessAllowed ? 'block' : 'none';\n",
              "\n",
              "        async function convertToInteractive(key) {\n",
              "          const element = document.querySelector('#df-d746f576-b1e3-42cf-8403-a516160b0e0b');\n",
              "          const dataTable =\n",
              "            await google.colab.kernel.invokeFunction('convertToInteractive',\n",
              "                                                     [key], {});\n",
              "          if (!dataTable) return;\n",
              "\n",
              "          const docLinkHtml = 'Like what you see? Visit the ' +\n",
              "            '<a target=\"_blank\" href=https://colab.research.google.com/notebooks/data_table.ipynb>data table notebook</a>'\n",
              "            + ' to learn more about interactive tables.';\n",
              "          element.innerHTML = '';\n",
              "          dataTable['output_type'] = 'display_data';\n",
              "          await google.colab.output.renderOutput(dataTable, element);\n",
              "          const docLink = document.createElement('div');\n",
              "          docLink.innerHTML = docLinkHtml;\n",
              "          element.appendChild(docLink);\n",
              "        }\n",
              "      </script>\n",
              "    </div>\n",
              "  </div>\n",
              "  "
            ]
          },
          "metadata": {},
          "execution_count": 58
        }
      ]
    },
    {
      "cell_type": "code",
      "source": [
        "x.Fare.median()"
      ],
      "metadata": {
        "id": "gFYjYz2Cw7iy",
        "outputId": "366de62e-4a05-4400-ebaa-b184c8e640ea",
        "colab": {
          "base_uri": "https://localhost:8080/"
        }
      },
      "execution_count": 59,
      "outputs": [
        {
          "output_type": "execute_result",
          "data": {
            "text/plain": [
              "14.4542"
            ]
          },
          "metadata": {},
          "execution_count": 59
        }
      ]
    },
    {
      "cell_type": "code",
      "source": [
        "x[(x.region==4) & (x.crime_rate==55.64)]"
      ],
      "metadata": {
        "colab": {
          "base_uri": "https://localhost:8080/",
          "height": 50
        },
        "id": "hUaRb5F-3MOw",
        "outputId": "9b5cb10e-1f51-4b72-a3ef-c1888b9546c9"
      },
      "execution_count": 35,
      "outputs": [
        {
          "output_type": "execute_result",
          "data": {
            "text/plain": [
              "Empty DataFrame\n",
              "Columns: [land_area, percent_city, percent_senior, physicians, hospital_beds, graduates, work_force, income, region, crime_rate]\n",
              "Index: []"
            ],
            "text/html": [
              "\n",
              "  <div id=\"df-0c9a2d30-7cbe-4fb1-83ca-ad5fea421950\">\n",
              "    <div class=\"colab-df-container\">\n",
              "      <div>\n",
              "<style scoped>\n",
              "    .dataframe tbody tr th:only-of-type {\n",
              "        vertical-align: middle;\n",
              "    }\n",
              "\n",
              "    .dataframe tbody tr th {\n",
              "        vertical-align: top;\n",
              "    }\n",
              "\n",
              "    .dataframe thead th {\n",
              "        text-align: right;\n",
              "    }\n",
              "</style>\n",
              "<table border=\"1\" class=\"dataframe\">\n",
              "  <thead>\n",
              "    <tr style=\"text-align: right;\">\n",
              "      <th></th>\n",
              "      <th>land_area</th>\n",
              "      <th>percent_city</th>\n",
              "      <th>percent_senior</th>\n",
              "      <th>physicians</th>\n",
              "      <th>hospital_beds</th>\n",
              "      <th>graduates</th>\n",
              "      <th>work_force</th>\n",
              "      <th>income</th>\n",
              "      <th>region</th>\n",
              "      <th>crime_rate</th>\n",
              "    </tr>\n",
              "  </thead>\n",
              "  <tbody>\n",
              "  </tbody>\n",
              "</table>\n",
              "</div>\n",
              "      <button class=\"colab-df-convert\" onclick=\"convertToInteractive('df-0c9a2d30-7cbe-4fb1-83ca-ad5fea421950')\"\n",
              "              title=\"Convert this dataframe to an interactive table.\"\n",
              "              style=\"display:none;\">\n",
              "        \n",
              "  <svg xmlns=\"http://www.w3.org/2000/svg\" height=\"24px\"viewBox=\"0 0 24 24\"\n",
              "       width=\"24px\">\n",
              "    <path d=\"M0 0h24v24H0V0z\" fill=\"none\"/>\n",
              "    <path d=\"M18.56 5.44l.94 2.06.94-2.06 2.06-.94-2.06-.94-.94-2.06-.94 2.06-2.06.94zm-11 1L8.5 8.5l.94-2.06 2.06-.94-2.06-.94L8.5 2.5l-.94 2.06-2.06.94zm10 10l.94 2.06.94-2.06 2.06-.94-2.06-.94-.94-2.06-.94 2.06-2.06.94z\"/><path d=\"M17.41 7.96l-1.37-1.37c-.4-.4-.92-.59-1.43-.59-.52 0-1.04.2-1.43.59L10.3 9.45l-7.72 7.72c-.78.78-.78 2.05 0 2.83L4 21.41c.39.39.9.59 1.41.59.51 0 1.02-.2 1.41-.59l7.78-7.78 2.81-2.81c.8-.78.8-2.07 0-2.86zM5.41 20L4 18.59l7.72-7.72 1.47 1.35L5.41 20z\"/>\n",
              "  </svg>\n",
              "      </button>\n",
              "      \n",
              "  <style>\n",
              "    .colab-df-container {\n",
              "      display:flex;\n",
              "      flex-wrap:wrap;\n",
              "      gap: 12px;\n",
              "    }\n",
              "\n",
              "    .colab-df-convert {\n",
              "      background-color: #E8F0FE;\n",
              "      border: none;\n",
              "      border-radius: 50%;\n",
              "      cursor: pointer;\n",
              "      display: none;\n",
              "      fill: #1967D2;\n",
              "      height: 32px;\n",
              "      padding: 0 0 0 0;\n",
              "      width: 32px;\n",
              "    }\n",
              "\n",
              "    .colab-df-convert:hover {\n",
              "      background-color: #E2EBFA;\n",
              "      box-shadow: 0px 1px 2px rgba(60, 64, 67, 0.3), 0px 1px 3px 1px rgba(60, 64, 67, 0.15);\n",
              "      fill: #174EA6;\n",
              "    }\n",
              "\n",
              "    [theme=dark] .colab-df-convert {\n",
              "      background-color: #3B4455;\n",
              "      fill: #D2E3FC;\n",
              "    }\n",
              "\n",
              "    [theme=dark] .colab-df-convert:hover {\n",
              "      background-color: #434B5C;\n",
              "      box-shadow: 0px 1px 3px 1px rgba(0, 0, 0, 0.15);\n",
              "      filter: drop-shadow(0px 1px 2px rgba(0, 0, 0, 0.3));\n",
              "      fill: #FFFFFF;\n",
              "    }\n",
              "  </style>\n",
              "\n",
              "      <script>\n",
              "        const buttonEl =\n",
              "          document.querySelector('#df-0c9a2d30-7cbe-4fb1-83ca-ad5fea421950 button.colab-df-convert');\n",
              "        buttonEl.style.display =\n",
              "          google.colab.kernel.accessAllowed ? 'block' : 'none';\n",
              "\n",
              "        async function convertToInteractive(key) {\n",
              "          const element = document.querySelector('#df-0c9a2d30-7cbe-4fb1-83ca-ad5fea421950');\n",
              "          const dataTable =\n",
              "            await google.colab.kernel.invokeFunction('convertToInteractive',\n",
              "                                                     [key], {});\n",
              "          if (!dataTable) return;\n",
              "\n",
              "          const docLinkHtml = 'Like what you see? Visit the ' +\n",
              "            '<a target=\"_blank\" href=https://colab.research.google.com/notebooks/data_table.ipynb>data table notebook</a>'\n",
              "            + ' to learn more about interactive tables.';\n",
              "          element.innerHTML = '';\n",
              "          dataTable['output_type'] = 'display_data';\n",
              "          await google.colab.output.renderOutput(dataTable, element);\n",
              "          const docLink = document.createElement('div');\n",
              "          docLink.innerHTML = docLinkHtml;\n",
              "          element.appendChild(docLink);\n",
              "        }\n",
              "      </script>\n",
              "    </div>\n",
              "  </div>\n",
              "  "
            ]
          },
          "metadata": {},
          "execution_count": 35
        }
      ]
    },
    {
      "cell_type": "code",
      "source": [
        "x.groupby(\"Sex\").count()"
      ],
      "metadata": {
        "colab": {
          "base_uri": "https://localhost:8080/",
          "height": 144
        },
        "id": "zPdZLdjf2Qus",
        "outputId": "ec7884e8-c15e-4237-8fb5-15c2db0b0d95"
      },
      "execution_count": 46,
      "outputs": [
        {
          "output_type": "execute_result",
          "data": {
            "text/plain": [
              "        Survived  Pclass  Name  Age  SibSp  Parch  Ticket  Fare  Cabin  \\\n",
              "Sex                                                                      \n",
              "female       314     314   314  261    314    314     314   314     97   \n",
              "male         577     577   577  453    577    577     577   577    107   \n",
              "\n",
              "        Embarked  \n",
              "Sex               \n",
              "female       312  \n",
              "male         577  "
            ],
            "text/html": [
              "\n",
              "  <div id=\"df-dc8bd3a9-3de3-4865-9dc2-67c202f8eed1\">\n",
              "    <div class=\"colab-df-container\">\n",
              "      <div>\n",
              "<style scoped>\n",
              "    .dataframe tbody tr th:only-of-type {\n",
              "        vertical-align: middle;\n",
              "    }\n",
              "\n",
              "    .dataframe tbody tr th {\n",
              "        vertical-align: top;\n",
              "    }\n",
              "\n",
              "    .dataframe thead th {\n",
              "        text-align: right;\n",
              "    }\n",
              "</style>\n",
              "<table border=\"1\" class=\"dataframe\">\n",
              "  <thead>\n",
              "    <tr style=\"text-align: right;\">\n",
              "      <th></th>\n",
              "      <th>Survived</th>\n",
              "      <th>Pclass</th>\n",
              "      <th>Name</th>\n",
              "      <th>Age</th>\n",
              "      <th>SibSp</th>\n",
              "      <th>Parch</th>\n",
              "      <th>Ticket</th>\n",
              "      <th>Fare</th>\n",
              "      <th>Cabin</th>\n",
              "      <th>Embarked</th>\n",
              "    </tr>\n",
              "    <tr>\n",
              "      <th>Sex</th>\n",
              "      <th></th>\n",
              "      <th></th>\n",
              "      <th></th>\n",
              "      <th></th>\n",
              "      <th></th>\n",
              "      <th></th>\n",
              "      <th></th>\n",
              "      <th></th>\n",
              "      <th></th>\n",
              "      <th></th>\n",
              "    </tr>\n",
              "  </thead>\n",
              "  <tbody>\n",
              "    <tr>\n",
              "      <th>female</th>\n",
              "      <td>314</td>\n",
              "      <td>314</td>\n",
              "      <td>314</td>\n",
              "      <td>261</td>\n",
              "      <td>314</td>\n",
              "      <td>314</td>\n",
              "      <td>314</td>\n",
              "      <td>314</td>\n",
              "      <td>97</td>\n",
              "      <td>312</td>\n",
              "    </tr>\n",
              "    <tr>\n",
              "      <th>male</th>\n",
              "      <td>577</td>\n",
              "      <td>577</td>\n",
              "      <td>577</td>\n",
              "      <td>453</td>\n",
              "      <td>577</td>\n",
              "      <td>577</td>\n",
              "      <td>577</td>\n",
              "      <td>577</td>\n",
              "      <td>107</td>\n",
              "      <td>577</td>\n",
              "    </tr>\n",
              "  </tbody>\n",
              "</table>\n",
              "</div>\n",
              "      <button class=\"colab-df-convert\" onclick=\"convertToInteractive('df-dc8bd3a9-3de3-4865-9dc2-67c202f8eed1')\"\n",
              "              title=\"Convert this dataframe to an interactive table.\"\n",
              "              style=\"display:none;\">\n",
              "        \n",
              "  <svg xmlns=\"http://www.w3.org/2000/svg\" height=\"24px\"viewBox=\"0 0 24 24\"\n",
              "       width=\"24px\">\n",
              "    <path d=\"M0 0h24v24H0V0z\" fill=\"none\"/>\n",
              "    <path d=\"M18.56 5.44l.94 2.06.94-2.06 2.06-.94-2.06-.94-.94-2.06-.94 2.06-2.06.94zm-11 1L8.5 8.5l.94-2.06 2.06-.94-2.06-.94L8.5 2.5l-.94 2.06-2.06.94zm10 10l.94 2.06.94-2.06 2.06-.94-2.06-.94-.94-2.06-.94 2.06-2.06.94z\"/><path d=\"M17.41 7.96l-1.37-1.37c-.4-.4-.92-.59-1.43-.59-.52 0-1.04.2-1.43.59L10.3 9.45l-7.72 7.72c-.78.78-.78 2.05 0 2.83L4 21.41c.39.39.9.59 1.41.59.51 0 1.02-.2 1.41-.59l7.78-7.78 2.81-2.81c.8-.78.8-2.07 0-2.86zM5.41 20L4 18.59l7.72-7.72 1.47 1.35L5.41 20z\"/>\n",
              "  </svg>\n",
              "      </button>\n",
              "      \n",
              "  <style>\n",
              "    .colab-df-container {\n",
              "      display:flex;\n",
              "      flex-wrap:wrap;\n",
              "      gap: 12px;\n",
              "    }\n",
              "\n",
              "    .colab-df-convert {\n",
              "      background-color: #E8F0FE;\n",
              "      border: none;\n",
              "      border-radius: 50%;\n",
              "      cursor: pointer;\n",
              "      display: none;\n",
              "      fill: #1967D2;\n",
              "      height: 32px;\n",
              "      padding: 0 0 0 0;\n",
              "      width: 32px;\n",
              "    }\n",
              "\n",
              "    .colab-df-convert:hover {\n",
              "      background-color: #E2EBFA;\n",
              "      box-shadow: 0px 1px 2px rgba(60, 64, 67, 0.3), 0px 1px 3px 1px rgba(60, 64, 67, 0.15);\n",
              "      fill: #174EA6;\n",
              "    }\n",
              "\n",
              "    [theme=dark] .colab-df-convert {\n",
              "      background-color: #3B4455;\n",
              "      fill: #D2E3FC;\n",
              "    }\n",
              "\n",
              "    [theme=dark] .colab-df-convert:hover {\n",
              "      background-color: #434B5C;\n",
              "      box-shadow: 0px 1px 3px 1px rgba(0, 0, 0, 0.15);\n",
              "      filter: drop-shadow(0px 1px 2px rgba(0, 0, 0, 0.3));\n",
              "      fill: #FFFFFF;\n",
              "    }\n",
              "  </style>\n",
              "\n",
              "      <script>\n",
              "        const buttonEl =\n",
              "          document.querySelector('#df-dc8bd3a9-3de3-4865-9dc2-67c202f8eed1 button.colab-df-convert');\n",
              "        buttonEl.style.display =\n",
              "          google.colab.kernel.accessAllowed ? 'block' : 'none';\n",
              "\n",
              "        async function convertToInteractive(key) {\n",
              "          const element = document.querySelector('#df-dc8bd3a9-3de3-4865-9dc2-67c202f8eed1');\n",
              "          const dataTable =\n",
              "            await google.colab.kernel.invokeFunction('convertToInteractive',\n",
              "                                                     [key], {});\n",
              "          if (!dataTable) return;\n",
              "\n",
              "          const docLinkHtml = 'Like what you see? Visit the ' +\n",
              "            '<a target=\"_blank\" href=https://colab.research.google.com/notebooks/data_table.ipynb>data table notebook</a>'\n",
              "            + ' to learn more about interactive tables.';\n",
              "          element.innerHTML = '';\n",
              "          dataTable['output_type'] = 'display_data';\n",
              "          await google.colab.output.renderOutput(dataTable, element);\n",
              "          const docLink = document.createElement('div');\n",
              "          docLink.innerHTML = docLinkHtml;\n",
              "          element.appendChild(docLink);\n",
              "        }\n",
              "      </script>\n",
              "    </div>\n",
              "  </div>\n",
              "  "
            ]
          },
          "metadata": {},
          "execution_count": 46
        }
      ]
    },
    {
      "cell_type": "code",
      "source": [
        "import seaborn as sns\n",
        "plt.figure(figsize=(12,8))\n",
        "sns.countplot(x.SibSp, hue=x.Sex)"
      ],
      "metadata": {
        "id": "00XfP6fYvZaV",
        "outputId": "546cbe9f-1c4e-4a93-9ff8-03c943d882e3",
        "colab": {
          "base_uri": "https://localhost:8080/",
          "height": 569
        }
      },
      "execution_count": 49,
      "outputs": [
        {
          "output_type": "stream",
          "name": "stderr",
          "text": [
            "/usr/local/lib/python3.7/dist-packages/seaborn/_decorators.py:43: FutureWarning: Pass the following variable as a keyword arg: x. From version 0.12, the only valid positional argument will be `data`, and passing other arguments without an explicit keyword will result in an error or misinterpretation.\n",
            "  FutureWarning\n"
          ]
        },
        {
          "output_type": "execute_result",
          "data": {
            "text/plain": [
              "<matplotlib.axes._subplots.AxesSubplot at 0x7fbb8aa45810>"
            ]
          },
          "metadata": {},
          "execution_count": 49
        },
        {
          "output_type": "display_data",
          "data": {
            "text/plain": [
              "<Figure size 864x576 with 1 Axes>"
            ],
            "image/png": "[encoded data removed]"
          },
          "metadata": {
            "needs_background": "light"
          }
        }
      ]
    },
    {
      "cell_type": "code",
      "source": [
        "sns.countplot(x.Survived, hue=x.Sex)"
      ],
      "metadata": {
        "id": "w0tROBKSxJWB",
        "outputId": "1e1c894e-4a1c-4231-bb54-4ad5483ab428",
        "colab": {
          "base_uri": "https://localhost:8080/",
          "height": 351
        }
      },
      "execution_count": 60,
      "outputs": [
        {
          "output_type": "stream",
          "name": "stderr",
          "text": [
            "/usr/local/lib/python3.7/dist-packages/seaborn/_decorators.py:43: FutureWarning: Pass the following variable as a keyword arg: x. From version 0.12, the only valid positional argument will be `data`, and passing other arguments without an explicit keyword will result in an error or misinterpretation.\n",
            "  FutureWarning\n"
          ]
        },
        {
          "output_type": "execute_result",
          "data": {
            "text/plain": [
              "<matplotlib.axes._subplots.AxesSubplot at 0x7fbb8755bad0>"
            ]
          },
          "metadata": {},
          "execution_count": 60
        },
        {
          "output_type": "display_data",
          "data": {
            "text/plain": [
              "<Figure size 432x288 with 1 Axes>"
            ],
            "image/png": "[encoded data removed]"
          },
          "metadata": {
            "needs_background": "light"
          }
        }
      ]
    },
    {
      "cell_type": "code",
      "source": [
        "sns.countplot(x.Survived, hue=x.Pclass)"
      ],
      "metadata": {
        "id": "F-GgEYzaxUHw",
        "outputId": "cf509a9f-ecb2-46f1-fead-06c6a1c5a4db",
        "colab": {
          "base_uri": "https://localhost:8080/",
          "height": 351
        }
      },
      "execution_count": 63,
      "outputs": [
        {
          "output_type": "stream",
          "name": "stderr",
          "text": [
            "/usr/local/lib/python3.7/dist-packages/seaborn/_decorators.py:43: FutureWarning: Pass the following variable as a keyword arg: x. From version 0.12, the only valid positional argument will be `data`, and passing other arguments without an explicit keyword will result in an error or misinterpretation.\n",
            "  FutureWarning\n"
          ]
        },
        {
          "output_type": "execute_result",
          "data": {
            "text/plain": [
              "<matplotlib.axes._subplots.AxesSubplot at 0x7fbb86d37110>"
            ]
          },
          "metadata": {},
          "execution_count": 63
        },
        {
          "output_type": "display_data",
          "data": {
            "text/plain": [
              "<Figure size 432x288 with 1 Axes>"
            ],
            "image/png": "[encoded data removed]"
          },
          "metadata": {
            "needs_background": "light"
          }
        }
      ]
    },
    {
      "cell_type": "code",
      "source": [
        "plt.pie(x.Survived.value_counts())"
      ],
      "metadata": {
        "id": "EcMQ9cktwHd-",
        "outputId": "c882dc4d-5865-4995-b2da-bcee69958acc",
        "colab": {
          "base_uri": "https://localhost:8080/",
          "height": 317
        }
      },
      "execution_count": 54,
      "outputs": [
        {
          "output_type": "execute_result",
          "data": {
            "text/plain": [
              "([<matplotlib.patches.Wedge at 0x7fbb8766cdd0>,\n",
              "  <matplotlib.patches.Wedge at 0x7fbb88ec0790>],\n",
              " [Text(-0.39257493509945834, 1.0275626113924428, ''),\n",
              "  Text(0.3925750313068116, -1.0275625746369201, '')])"
            ]
          },
          "metadata": {},
          "execution_count": 54
        },
        {
          "output_type": "display_data",
          "data": {
            "text/plain": [
              "<Figure size 432x288 with 1 Axes>"
            ],
            "image/png": "[encoded data removed]"
          },
          "metadata": {}
        }
      ]
    },
    {
      "cell_type": "code",
      "source": [
        "x.Survived.value_counts()"
      ],
      "metadata": {
        "id": "YDY_VQQkwp8D",
        "outputId": "f4000da0-be2f-434d-9bf4-5a1dd1afc689",
        "colab": {
          "base_uri": "https://localhost:8080/"
        }
      },
      "execution_count": 55,
      "outputs": [
        {
          "output_type": "execute_result",
          "data": {
            "text/plain": [
              "0    549\n",
              "1    342\n",
              "Name: Survived, dtype: int64"
            ]
          },
          "metadata": {},
          "execution_count": 55
        }
      ]
    },
    {
      "cell_type": "code",
      "source": [
        "342/(342+549)"
      ],
      "metadata": {
        "id": "x8-m3SBvwr6s",
        "outputId": "6245f19a-4bc3-452c-9779-2c85c3e8ede3",
        "colab": {
          "base_uri": "https://localhost:8080/"
        }
      },
      "execution_count": 57,
      "outputs": [
        {
          "output_type": "execute_result",
          "data": {
            "text/plain": [
              "0.3838383838383838"
            ]
          },
          "metadata": {},
          "execution_count": 57
        }
      ]
    },
    {
      "cell_type": "code",
      "source": [
        "x[x.region==1].describe()"
      ],
      "metadata": {
        "colab": {
          "base_uri": "https://localhost:8080/",
          "height": 300
        },
        "id": "9EptN0rS2vMV",
        "outputId": "a6862729-6e1b-457e-8b52-1c5da5ca1442"
      },
      "execution_count": 28,
      "outputs": [
        {
          "output_type": "execute_result",
          "data": {
            "text/plain": [
              "         land_area  percent_city  percent_senior    physicians  hospital_beds  \\\n",
              "count    21.000000     21.000000       21.000000     21.000000      21.000000   \n",
              "mean   1592.333333     32.257143       11.295238   2711.857143    9654.857143   \n",
              "std     996.217112     16.187513        1.426701   5671.541856   15849.370010   \n",
              "min      47.000000     13.400000        7.500000    293.000000    1455.000000   \n",
              "25%     862.000000     19.500000       10.700000    470.000000    2531.000000   \n",
              "50%    1490.000000     28.400000       11.100000    827.000000    4355.000000   \n",
              "75%    2419.000000     39.000000       12.100000   1532.000000    5790.000000   \n",
              "max    3553.000000     78.100000       14.500000  25627.000000   69678.000000   \n",
              "\n",
              "       graduates   work_force        income  region  crime_rate  \n",
              "count  21.000000    21.000000     21.000000    21.0   21.000000  \n",
              "mean   51.580952   575.685714   9225.571429     1.0   41.951905  \n",
              "std     6.014534   919.433033  16187.761095     0.0   13.241366  \n",
              "min    36.300000    97.000000   1589.000000     1.0   23.320000  \n",
              "25%    47.900000   163.800000   2178.000000     1.0   30.590000  \n",
              "50%    53.400000   277.000000   3860.000000     1.0   39.590000  \n",
              "75%    55.900000   356.500000   5094.000000     1.0   49.640000  \n",
              "max    58.900000  4083.900000  72100.000000     1.0   75.550000  "
            ],
            "text/html": [
              "\n",
              "  <div id=\"df-bee76eb6-b244-4737-a9e4-09fd83117eb9\">\n",
              "    <div class=\"colab-df-container\">\n",
              "      <div>\n",
              "<style scoped>\n",
              "    .dataframe tbody tr th:only-of-type {\n",
              "        vertical-align: middle;\n",
              "    }\n",
              "\n",
              "    .dataframe tbody tr th {\n",
              "        vertical-align: top;\n",
              "    }\n",
              "\n",
              "    .dataframe thead th {\n",
              "        text-align: right;\n",
              "    }\n",
              "</style>\n",
              "<table border=\"1\" class=\"dataframe\">\n",
              "  <thead>\n",
              "    <tr style=\"text-align: right;\">\n",
              "      <th></th>\n",
              "      <th>land_area</th>\n",
              "      <th>percent_city</th>\n",
              "      <th>percent_senior</th>\n",
              "      <th>physicians</th>\n",
              "      <th>hospital_beds</th>\n",
              "      <th>graduates</th>\n",
              "      <th>work_force</th>\n",
              "      <th>income</th>\n",
              "      <th>region</th>\n",
              "      <th>crime_rate</th>\n",
              "    </tr>\n",
              "  </thead>\n",
              "  <tbody>\n",
              "    <tr>\n",
              "      <th>count</th>\n",
              "      <td>21.000000</td>\n",
              "      <td>21.000000</td>\n",
              "      <td>21.000000</td>\n",
              "      <td>21.000000</td>\n",
              "      <td>21.000000</td>\n",
              "      <td>21.000000</td>\n",
              "      <td>21.000000</td>\n",
              "      <td>21.000000</td>\n",
              "      <td>21.0</td>\n",
              "      <td>21.000000</td>\n",
              "    </tr>\n",
              "    <tr>\n",
              "      <th>mean</th>\n",
              "      <td>1592.333333</td>\n",
              "      <td>32.257143</td>\n",
              "      <td>11.295238</td>\n",
              "      <td>2711.857143</td>\n",
              "      <td>9654.857143</td>\n",
              "      <td>51.580952</td>\n",
              "      <td>575.685714</td>\n",
              "      <td>9225.571429</td>\n",
              "      <td>1.0</td>\n",
              "      <td>41.951905</td>\n",
              "    </tr>\n",
              "    <tr>\n",
              "      <th>std</th>\n",
              "      <td>996.217112</td>\n",
              "      <td>16.187513</td>\n",
              "      <td>1.426701</td>\n",
              "      <td>5671.541856</td>\n",
              "      <td>15849.370010</td>\n",
              "      <td>6.014534</td>\n",
              "      <td>919.433033</td>\n",
              "      <td>16187.761095</td>\n",
              "      <td>0.0</td>\n",
              "      <td>13.241366</td>\n",
              "    </tr>\n",
              "    <tr>\n",
              "      <th>min</th>\n",
              "      <td>47.000000</td>\n",
              "      <td>13.400000</td>\n",
              "      <td>7.500000</td>\n",
              "      <td>293.000000</td>\n",
              "      <td>1455.000000</td>\n",
              "      <td>36.300000</td>\n",
              "      <td>97.000000</td>\n",
              "      <td>1589.000000</td>\n",
              "      <td>1.0</td>\n",
              "      <td>23.320000</td>\n",
              "    </tr>\n",
              "    <tr>\n",
              "      <th>25%</th>\n",
              "      <td>862.000000</td>\n",
              "      <td>19.500000</td>\n",
              "      <td>10.700000</td>\n",
              "      <td>470.000000</td>\n",
              "      <td>2531.000000</td>\n",
              "      <td>47.900000</td>\n",
              "      <td>163.800000</td>\n",
              "      <td>2178.000000</td>\n",
              "      <td>1.0</td>\n",
              "      <td>30.590000</td>\n",
              "    </tr>\n",
              "    <tr>\n",
              "      <th>50%</th>\n",
              "      <td>1490.000000</td>\n",
              "      <td>28.400000</td>\n",
              "      <td>11.100000</td>\n",
              "      <td>827.000000</td>\n",
              "      <td>4355.000000</td>\n",
              "      <td>53.400000</td>\n",
              "      <td>277.000000</td>\n",
              "      <td>3860.000000</td>\n",
              "      <td>1.0</td>\n",
              "      <td>39.590000</td>\n",
              "    </tr>\n",
              "    <tr>\n",
              "      <th>75%</th>\n",
              "      <td>2419.000000</td>\n",
              "      <td>39.000000</td>\n",
              "      <td>12.100000</td>\n",
              "      <td>1532.000000</td>\n",
              "      <td>5790.000000</td>\n",
              "      <td>55.900000</td>\n",
              "      <td>356.500000</td>\n",
              "      <td>5094.000000</td>\n",
              "      <td>1.0</td>\n",
              "      <td>49.640000</td>\n",
              "    </tr>\n",
              "    <tr>\n",
              "      <th>max</th>\n",
              "      <td>3553.000000</td>\n",
              "      <td>78.100000</td>\n",
              "      <td>14.500000</td>\n",
              "      <td>25627.000000</td>\n",
              "      <td>69678.000000</td>\n",
              "      <td>58.900000</td>\n",
              "      <td>4083.900000</td>\n",
              "      <td>72100.000000</td>\n",
              "      <td>1.0</td>\n",
              "      <td>75.550000</td>\n",
              "    </tr>\n",
              "  </tbody>\n",
              "</table>\n",
              "</div>\n",
              "      <button class=\"colab-df-convert\" onclick=\"convertToInteractive('df-bee76eb6-b244-4737-a9e4-09fd83117eb9')\"\n",
              "              title=\"Convert this dataframe to an interactive table.\"\n",
              "              style=\"display:none;\">\n",
              "        \n",
              "  <svg xmlns=\"http://www.w3.org/2000/svg\" height=\"24px\"viewBox=\"0 0 24 24\"\n",
              "       width=\"24px\">\n",
              "    <path d=\"M0 0h24v24H0V0z\" fill=\"none\"/>\n",
              "    <path d=\"M18.56 5.44l.94 2.06.94-2.06 2.06-.94-2.06-.94-.94-2.06-.94 2.06-2.06.94zm-11 1L8.5 8.5l.94-2.06 2.06-.94-2.06-.94L8.5 2.5l-.94 2.06-2.06.94zm10 10l.94 2.06.94-2.06 2.06-.94-2.06-.94-.94-2.06-.94 2.06-2.06.94z\"/><path d=\"M17.41 7.96l-1.37-1.37c-.4-.4-.92-.59-1.43-.59-.52 0-1.04.2-1.43.59L10.3 9.45l-7.72 7.72c-.78.78-.78 2.05 0 2.83L4 21.41c.39.39.9.59 1.41.59.51 0 1.02-.2 1.41-.59l7.78-7.78 2.81-2.81c.8-.78.8-2.07 0-2.86zM5.41 20L4 18.59l7.72-7.72 1.47 1.35L5.41 20z\"/>\n",
              "  </svg>\n",
              "      </button>\n",
              "      \n",
              "  <style>\n",
              "    .colab-df-container {\n",
              "      display:flex;\n",
              "      flex-wrap:wrap;\n",
              "      gap: 12px;\n",
              "    }\n",
              "\n",
              "    .colab-df-convert {\n",
              "      background-color: #E8F0FE;\n",
              "      border: none;\n",
              "      border-radius: 50%;\n",
              "      cursor: pointer;\n",
              "      display: none;\n",
              "      fill: #1967D2;\n",
              "      height: 32px;\n",
              "      padding: 0 0 0 0;\n",
              "      width: 32px;\n",
              "    }\n",
              "\n",
              "    .colab-df-convert:hover {\n",
              "      background-color: #E2EBFA;\n",
              "      box-shadow: 0px 1px 2px rgba(60, 64, 67, 0.3), 0px 1px 3px 1px rgba(60, 64, 67, 0.15);\n",
              "      fill: #174EA6;\n",
              "    }\n",
              "\n",
              "    [theme=dark] .colab-df-convert {\n",
              "      background-color: #3B4455;\n",
              "      fill: #D2E3FC;\n",
              "    }\n",
              "\n",
              "    [theme=dark] .colab-df-convert:hover {\n",
              "      background-color: #434B5C;\n",
              "      box-shadow: 0px 1px 3px 1px rgba(0, 0, 0, 0.15);\n",
              "      filter: drop-shadow(0px 1px 2px rgba(0, 0, 0, 0.3));\n",
              "      fill: #FFFFFF;\n",
              "    }\n",
              "  </style>\n",
              "\n",
              "      <script>\n",
              "        const buttonEl =\n",
              "          document.querySelector('#df-bee76eb6-b244-4737-a9e4-09fd83117eb9 button.colab-df-convert');\n",
              "        buttonEl.style.display =\n",
              "          google.colab.kernel.accessAllowed ? 'block' : 'none';\n",
              "\n",
              "        async function convertToInteractive(key) {\n",
              "          const element = document.querySelector('#df-bee76eb6-b244-4737-a9e4-09fd83117eb9');\n",
              "          const dataTable =\n",
              "            await google.colab.kernel.invokeFunction('convertToInteractive',\n",
              "                                                     [key], {});\n",
              "          if (!dataTable) return;\n",
              "\n",
              "          const docLinkHtml = 'Like what you see? Visit the ' +\n",
              "            '<a target=\"_blank\" href=https://colab.research.google.com/notebooks/data_table.ipynb>data table notebook</a>'\n",
              "            + ' to learn more about interactive tables.';\n",
              "          element.innerHTML = '';\n",
              "          dataTable['output_type'] = 'display_data';\n",
              "          await google.colab.output.renderOutput(dataTable, element);\n",
              "          const docLink = document.createElement('div');\n",
              "          docLink.innerHTML = docLinkHtml;\n",
              "          element.appendChild(docLink);\n",
              "        }\n",
              "      </script>\n",
              "    </div>\n",
              "  </div>\n",
              "  "
            ]
          },
          "metadata": {},
          "execution_count": 28
        }
      ]
    },
    {
      "cell_type": "markdown",
      "metadata": {
        "id": "5f5Tz7Neg4td"
      },
      "source": [
        "Time to plot some graphs now!"
      ]
    },
    {
      "cell_type": "markdown",
      "metadata": {
        "id": "lZcL-6qcqAzP"
      },
      "source": [
        "### 1.4. Scatter Plot using `Matplotlib`"
      ]
    },
    {
      "cell_type": "markdown",
      "metadata": {
        "id": "3O2IawZ0g4th"
      },
      "source": [
        "- A scatter plot (aka scatter chart, scatter graph) uses dots to represent values for two different numeric variables. \n",
        "- The position of each dot on the horizontal and vertical axis indicates values for an individual data point. \n",
        "- Scatter plots are used to observe relationships between variables.\n",
        "\n",
        "To create a scatter plot in `Matplotlib` we can use the `.scatter()` method:"
      ]
    },
    {
      "cell_type": "code",
      "metadata": {
        "id": "ahTQVqAMXM-6",
        "colab": {
          "base_uri": "https://localhost:8080/",
          "height": 267
        },
        "outputId": "fe7a3da0-309b-4dc3-8b60-43bfa2645d46"
      },
      "source": [
        "plt.scatter(x.crime_rate, x.percent_senior) # Plotting the scatter plot\n",
        "# Here we are creating a scatter plot between crime rate and percent senior variables\n",
        "plt.show() # Showing the figure"
      ],
      "execution_count": 6,
      "outputs": [
        {
          "output_type": "display_data",
          "data": {
            "text/plain": [
              "<Figure size 432x288 with 1 Axes>"
            ],
            "image/png": "[encoded data removed]"
          },
          "metadata": {
            "needs_background": "light"
          }
        }
      ]
    },
    {
      "cell_type": "markdown",
      "metadata": {
        "id": "gtgMNckkg4ts"
      },
      "source": [
        "Both structures that store the values `x.crime_rate` and `x.percent_senior` must have the same size, so that the bijective relationship is maintained between each point of the independent variable $x$ with its corresponding one in the dependent variable $y$."
      ]
    },
    {
      "cell_type": "markdown",
      "metadata": {
        "id": "7U1FgTT5754b"
      },
      "source": [
        "### Applications of Scatter Plot:\n",
        "\n",
        "A scatter plot can also be useful for identifying other patterns in data. \n",
        "- We can divide data points into groups based on how closely sets of points cluster together. \n",
        "- Scatter plots can also show if there are any unexpected gaps in the data and if there are any outlier points.(Look at the 2 points away from rest of the data in the scatter plot. Those are outliers.)\n",
        "\n",
        "This can be useful if we want to segment the data into different parts, like categorising users into different groups."
      ]
    },
    {
      "cell_type": "markdown",
      "metadata": {
        "id": "SUYmrKoiqAza"
      },
      "source": [
        "#### Is `plt.show()` always required?\n",
        "\n",
        "1. If `Matplotlib` is used in a terminal, scripts or specialized IDEs as Spyder, Pycharm or VS Code, `plt.show()` is a must.\n",
        "\n",
        "2. If `Matplotlib` is used in a IPython shell or a notebook as Jupyter Notebook or Colab Notebook, `plt.show()` is usually unnecessary.\n",
        "\n",
        "In the following cell we are executing the same script as above, removing the `plt.show()` instruction:"
      ]
    },
    {
      "cell_type": "code",
      "metadata": {
        "id": "efUb9WoAqAzb",
        "colab": {
          "base_uri": "https://localhost:8080/",
          "height": 284
        },
        "outputId": "fa0746a6-d0a5-4ad8-f33b-7178012b3315"
      },
      "source": [
        "# The same code block without plt.show() gives the same result in Jupyter Notebook\n",
        "plt.scatter(x.crime_rate, x.percent_senior)"
      ],
      "execution_count": 7,
      "outputs": [
        {
          "output_type": "execute_result",
          "data": {
            "text/plain": [
              "<matplotlib.collections.PathCollection at 0x7fbb9a407b50>"
            ]
          },
          "metadata": {},
          "execution_count": 7
        },
        {
          "output_type": "display_data",
          "data": {
            "text/plain": [
              "<Figure size 432x288 with 1 Axes>"
            ],
            "image/png": "[encoded data removed]"
          },
          "metadata": {
            "needs_background": "light"
          }
        }
      ]
    },
    {
      "cell_type": "markdown",
      "metadata": {
        "id": "12ffKYHdg4t7"
      },
      "source": [
        "The only difference is the inclusion of the figure output object:\n",
        "```\n",
        "<matplotlib.collections.PathCollection at 0x7f835e24d978>\n",
        "``` \n",
        "If you want to prevent this from being included as a cell output, use `plt.show()` at the end of each plotting instruction."
      ]
    },
    {
      "cell_type": "markdown",
      "metadata": {
        "id": "f2Or7pbSg4t8"
      },
      "source": [
        "The `plt.show()` command does a lot under the hood, as it must interact with your system's interactive graphical backend. The details of this operation can vary greatly from system to system and even installation to installation, but matplotlib does its best to hide all these details from you. "
      ]
    },
    {
      "cell_type": "markdown",
      "metadata": {
        "id": "J5lJlZl_qAz0"
      },
      "source": [
        "#### Adding titles and labels"
      ]
    },
    {
      "cell_type": "markdown",
      "metadata": {
        "id": "QyGTsZzQg4uh"
      },
      "source": [
        "Visualizing the data through plotting for better interpretation is an indispensable practice. However, the graphics must express the full story. To express this story, it is necessary to add labels that indicate what is being plotted, where and what it represents. We do this by including data labels, axis labels, and titles."
      ]
    },
    {
      "cell_type": "code",
      "metadata": {
        "id": "MMlMW_8fXM_A",
        "colab": {
          "base_uri": "https://localhost:8080/",
          "height": 295
        },
        "outputId": "065d12d4-f8c9-4e19-83af-51c860c1b4d5"
      },
      "source": [
        "plt.scatter(x.percent_senior, x.crime_rate)\n",
        "\n",
        "plt.title('Plot of Crime Rate vs Percent Senior') # Adding a title to the plot\n",
        "plt.xlabel(\"Percent Senior\") # Adding the label for the horizontal axis\n",
        "plt.ylabel(\"Crime Rate\") # Adding the label for the vertical axis\n",
        "plt.show()"
      ],
      "execution_count": 8,
      "outputs": [
        {
          "output_type": "display_data",
          "data": {
            "text/plain": [
              "<Figure size 432x288 with 1 Axes>"
            ],
            "image/png": "[encoded data removed]"
          },
          "metadata": {
            "needs_background": "light"
          }
        }
      ]
    },
    {
      "cell_type": "markdown",
      "metadata": {
        "id": "1LhHzcIuqAzh"
      },
      "source": [
        "### 1.5. Line Chart using `Matplotlib`"
      ]
    },
    {
      "cell_type": "markdown",
      "metadata": {
        "id": "uGWZ1Yv9g4uF"
      },
      "source": [
        "A line chart is used to represent data over a continuous time span. It is generally used to show trend of a measure (or a variable) over time. Data values are plotted as points that are connected using line segments.\n",
        "\n",
        "In Matplotlib we can create a line chart by calling the plot method.\n",
        "\n",
        "plot() is a versatile command, and will take an arbitrary number of arguments."
      ]
    },
    {
      "cell_type": "markdown",
      "metadata": {
        "id": "4V5gdKN5g4uH"
      },
      "source": [
        "### Applications of Line Chart:\n",
        "\n",
        "Using a line chart one can see the pattern of any dependent variable over time like share price, weather recordings (like temperature, precipitation or humidity), etc. Let's look at an example of the graphical representation of Netflix Paid Subscriber Count growth from 2012 to 2018:\n",
        "\n",
        "![Netflix Subscriber Count 2012-2014](https://www.marketingcharts.com/wp-content/uploads/2019/01/Netflix-Paid-Streaming-Subscriber-Count-Q12012-Q42018-Jan2019.png)\n",
        "<div style=\"font-size: 12px\", align=\"center\">\n",
        "    Figure 2. Netflix Subscriber Count from 2012 to 2014\n",
        "</div >"
      ]
    },
    {
      "cell_type": "markdown",
      "metadata": {
        "id": "g4un8SFNqAzi"
      },
      "source": [
        "In `Matplotlib` we can create a line chart by calling the native `.plot()` method, which is a versatile command, and will take an arbitrary number of arguments:"
      ]
    },
    {
      "cell_type": "code",
      "metadata": {
        "id": "KAQO5fETXM-9",
        "colab": {
          "base_uri": "https://localhost:8080/",
          "height": 279
        },
        "outputId": "406b92b3-db9f-4efe-ec67-4b055b4868b5"
      },
      "source": [
        "plt.plot(x.work_force, x.income) # 2 arguments: X and Y points\n",
        "plt.xlabel(\"Work Force\") # Adding the label for the horizontal axis\n",
        "plt.ylabel(\"Income\")\n",
        "plt.show()"
      ],
      "execution_count": 9,
      "outputs": [
        {
          "output_type": "display_data",
          "data": {
            "text/plain": [
              "<Figure size 432x288 with 1 Axes>"
            ],
            "image/png": "[encoded data removed]"
          },
          "metadata": {
            "needs_background": "light"
          }
        }
      ]
    },
    {
      "cell_type": "markdown",
      "metadata": {
        "id": "YgH_As-dg4uT"
      },
      "source": [
        "Because it is a line chart, `matplotlib` automatically draws a line to connect each pair of consecutive points that represent Cartesian coordinates on the graph. We can also make a graph with a single input argument:"
      ]
    },
    {
      "cell_type": "code",
      "metadata": {
        "id": "BT8zlIiHqAzq",
        "colab": {
          "base_uri": "https://localhost:8080/",
          "height": 264
        },
        "outputId": "09e986c2-a270-41c5-c30f-7496a981ab6b"
      },
      "source": [
        "plt.plot([1, 2, 3, 4]) # 1 argument\n",
        "plt.show()"
      ],
      "execution_count": null,
      "outputs": [
        {
          "output_type": "display_data",
          "data": {
            "image/png": "[encoded data removed]",
            "text/plain": [
              "<Figure size 432x288 with 1 Axes>"
            ]
          },
          "metadata": {
            "tags": [],
            "needs_background": "light"
          }
        }
      ]
    },
    {
      "cell_type": "markdown",
      "metadata": {
        "id": "DH8hXrxJqAzz"
      },
      "source": [
        "You may be wondering why the x-axis ranges from 0-3 and the y-axis from 1-4. If you provide a single list or array of $n$ elements to the `.plot()` function, `matplotlib` will assume it is a sequence of $y$ values, and **automatically generates the $x$ values for you** as a range of $n$ elements starting from 0. Since python ranges start with 0, the default $x$ vector has the same length as $y$. Hence the $x$ data will be [0,1,2,3]."
      ]
    },
    {
      "cell_type": "markdown",
      "metadata": {
        "id": "m-bZ8MgaqAz-"
      },
      "source": [
        "#### Changing the size of the plot"
      ]
    },
    {
      "cell_type": "markdown",
      "metadata": {
        "id": "1RFRKffSg4vK"
      },
      "source": [
        "You may have noticed that there is a lot of space in the width to show the graph and `matplotlib` has shown it in a small space of our notebook. The size of the figure that contains the graph can be varied with the `figsize` argument as follows:\n",
        "\n",
        "```\n",
        "plt.figure(figsize=(new_width_pixels, new_height_pixels))\n",
        "```\n",
        "\n",
        "Let's look at this example:"
      ]
    },
    {
      "cell_type": "code",
      "source": [
        "x.columns"
      ],
      "metadata": {
        "colab": {
          "base_uri": "https://localhost:8080/"
        },
        "id": "uKJA10EA0Bpv",
        "outputId": "5bfcbdd4-2885-479f-8ba6-d5e729929619"
      },
      "execution_count": 12,
      "outputs": [
        {
          "output_type": "execute_result",
          "data": {
            "text/plain": [
              "Index(['land_area', 'percent_city', 'percent_senior', 'physicians',\n",
              "       'hospital_beds', 'graduates', 'work_force', 'income', 'region',\n",
              "       'crime_rate'],\n",
              "      dtype='object')"
            ]
          },
          "metadata": {},
          "execution_count": 12
        }
      ]
    },
    {
      "cell_type": "code",
      "metadata": {
        "id": "gL-Gdu-1XM_D",
        "colab": {
          "base_uri": "https://localhost:8080/",
          "height": 335
        },
        "outputId": "72c4a1e1-8fc3-490f-b7e5-ff3f360a468c"
      },
      "source": [
        "plt.figure(figsize=(12,5)) # 12x5 plot\n",
        "\n",
        "plt.plot(x.land_area, x.crime_rate) \n",
        "plt.xlabel(\"land_area\") \n",
        "plt.ylabel(\"crime_rate\")\n",
        "plt.show()"
      ],
      "execution_count": 11,
      "outputs": [
        {
          "output_type": "display_data",
          "data": {
            "text/plain": [
              "<Figure size 864x360 with 1 Axes>"
            ],
            "image/png": "[encoded data removed]"
          },
          "metadata": {
            "needs_background": "light"
          }
        }
      ]
    },
    {
      "cell_type": "markdown",
      "metadata": {
        "id": "IuScMzd1qA0G"
      },
      "source": [
        "#### Formatting the style of your plot"
      ]
    },
    {
      "cell_type": "code",
      "source": [
        "plt.figure(figsize=(12,5)) # 12x5 plot\n",
        "\n",
        "plt.scatter(x.hospital_beds, x.physicians) \n",
        "plt.xlabel(\"hospital_beds\") \n",
        "plt.ylabel(\"physicians\")\n",
        "plt.show()"
      ],
      "metadata": {
        "colab": {
          "base_uri": "https://localhost:8080/",
          "height": 335
        },
        "id": "u61tucEr0F8X",
        "outputId": "ea2d266e-a192-4e11-9919-299434c1ace9"
      },
      "execution_count": 13,
      "outputs": [
        {
          "output_type": "display_data",
          "data": {
            "text/plain": [
              "<Figure size 864x360 with 1 Axes>"
            ],
            "image/png": "[encoded data removed]"
          },
          "metadata": {
            "needs_background": "light"
          }
        }
      ]
    },
    {
      "cell_type": "markdown",
      "metadata": {
        "id": "JNK1WMuz-ZdJ"
      },
      "source": [
        "Specify the keyword args linestyle and/or marker in your call to plot.\n",
        "\n",
        "For example, using a dashed line and red circle markers:"
      ]
    },
    {
      "cell_type": "code",
      "metadata": {
        "id": "1UmC3WDt-a06",
        "colab": {
          "base_uri": "https://localhost:8080/",
          "height": 279
        },
        "outputId": "57264994-e918-4f27-8fea-e793e29cd82d"
      },
      "source": [
        "plt.plot(x.work_force, x.income, linestyle='--', marker='o', color='r')\n",
        "plt.xlabel(\"Work Force\") \n",
        "plt.ylabel(\"Income\")\n",
        "plt.show()"
      ],
      "execution_count": null,
      "outputs": [
        {
          "output_type": "display_data",
          "data": {
            "image/png": "[encoded data removed]",
            "text/plain": [
              "<Figure size 432x288 with 1 Axes>"
            ]
          },
          "metadata": {
            "tags": [],
            "needs_background": "light"
          }
        }
      ]
    },
    {
      "cell_type": "markdown",
      "metadata": {
        "id": "fOqQdA_zqA0I"
      },
      "source": [
        "#### A shortcut for the above\n",
        "\n",
        "For every x, y pair of arguments, there is an optional third argument which is the format string that indicates the color and line type of the plot. The letters and symbols of the format string are from MATLAB, and you concatenate a color string with a line style string. The default format string is 'b-', which is a solid blue line. "
      ]
    },
    {
      "cell_type": "code",
      "metadata": {
        "id": "yYzjma83qA0K",
        "colab": {
          "base_uri": "https://localhost:8080/",
          "height": 279
        },
        "outputId": "7089162e-31ea-4818-d22f-08c4cca7f253"
      },
      "source": [
        "plt.plot(x.work_force, x.income, '--ro')  # ro = red circles\n",
        "plt.xlabel(\"Work Force\") \n",
        "plt.ylabel(\"Income\")\n",
        "plt.show()"
      ],
      "execution_count": null,
      "outputs": [
        {
          "output_type": "display_data",
          "data": {
            "image/png": "[encoded data removed]",
            "text/plain": [
              "<Figure size 432x288 with 1 Axes>"
            ]
          },
          "metadata": {
            "tags": [],
            "needs_background": "light"
          }
        }
      ]
    },
    {
      "cell_type": "markdown",
      "metadata": {
        "id": "FsP3I73R-l-Q"
      },
      "source": [
        "It turns out that the plot function can produce scatter plots as well"
      ]
    },
    {
      "cell_type": "code",
      "metadata": {
        "id": "M1r5ccrb-nuk",
        "colab": {
          "base_uri": "https://localhost:8080/",
          "height": 264
        },
        "outputId": "b4dbb15a-ea81-4d71-cbc9-7bb7114e7599"
      },
      "source": [
        "plt.plot(x.work_force, x.income, 'ro') # ro = red circles\n",
        "plt.show()"
      ],
      "execution_count": null,
      "outputs": [
        {
          "output_type": "display_data",
          "data": {
            "image/png": "[encoded data removed]",
            "text/plain": [
              "<Figure size 432x288 with 1 Axes>"
            ]
          },
          "metadata": {
            "tags": [],
            "needs_background": "light"
          }
        }
      ]
    },
    {
      "cell_type": "code",
      "metadata": {
        "id": "mtgTK-THXM_G",
        "colab": {
          "base_uri": "https://localhost:8080/",
          "height": 264
        },
        "outputId": "17b89615-c5aa-4e99-85be-601d216d34e1"
      },
      "source": [
        "plt.plot(x.work_force, x.income, \"gx\") # gx = green x\n",
        "plt.show()"
      ],
      "execution_count": null,
      "outputs": [
        {
          "output_type": "display_data",
          "data": {
            "image/png": "[encoded data removed]",
            "text/plain": [
              "<Figure size 432x288 with 1 Axes>"
            ]
          },
          "metadata": {
            "tags": [],
            "needs_background": "light"
          }
        }
      ]
    },
    {
      "cell_type": "markdown",
      "metadata": {
        "id": "agini_RYg4vr"
      },
      "source": [
        "There are plenty of other options. You can try the following:\n",
        "\n",
        "```\n",
        "plt.plot(x.work_force, x.income, \"go\") # green circles\n",
        "plt.plot(x.work_force, x.income, \"g^\") # green traingles\n",
        "plt.plot(x.work_force, x.income, \"ro\") # red circles\n",
        "plt.plot(x.work_force, x.income, \"rx\") # red x symbol\n",
        "plt.plot(x.work_force, x.income, \"b^\") # red ^ symbol\n",
        "plt.plot(x.work_force, x.income, \"go--\", linewidth=3) # green circles and dashed lines of width 3.\n",
        "```"
      ]
    },
    {
      "cell_type": "markdown",
      "metadata": {
        "id": "C0BqyD82qA0k"
      },
      "source": [
        "### 1.6. Plotting consecutive plots using `Matplotlib` "
      ]
    },
    {
      "cell_type": "markdown",
      "metadata": {
        "id": "5AdCy4x6g4v4"
      },
      "source": [
        "Plotting data on multiple consecutive figures can be done by calling the corresponding graphing functions and displaying each figure consecutively:"
      ]
    },
    {
      "cell_type": "code",
      "metadata": {
        "id": "hBANP3F-g4u7",
        "colab": {
          "base_uri": "https://localhost:8080/",
          "height": 513
        },
        "outputId": "ab6397d6-8e6b-4b7b-cf8c-0b9a91820b80"
      },
      "source": [
        "plt.plot(x.work_force, x.income, color=\"r\") \n",
        "plt.show()\n",
        "plt.plot(x.physicians, x.income) \n",
        "plt.show()"
      ],
      "execution_count": null,
      "outputs": [
        {
          "output_type": "display_data",
          "data": {
            "image/png": "[encoded data removed]",
            "text/plain": [
              "<Figure size 432x288 with 1 Axes>"
            ]
          },
          "metadata": {
            "tags": [],
            "needs_background": "light"
          }
        },
        {
          "output_type": "display_data",
          "data": {
            "image/png": "[encoded data removed]",
            "text/plain": [
              "<Figure size 432x288 with 1 Axes>"
            ]
          },
          "metadata": {
            "tags": [],
            "needs_background": "light"
          }
        }
      ]
    },
    {
      "cell_type": "markdown",
      "metadata": {
        "id": "yzhF5miAqA02"
      },
      "source": [
        "What happens if you don't use `plt.show()` after the first figure? Both variables will be plotted in the same figure:"
      ]
    },
    {
      "cell_type": "markdown",
      "metadata": {
        "id": "KWBAtkc6g4u4"
      },
      "source": [
        "#### Adding a Legend\n",
        "\n",
        "A legend is an area describing the elements of the graph. In the `matplotlib` library, there’s a function called `.legend()` which is used to place a legend on the axes, as follows:"
      ]
    },
    {
      "cell_type": "code",
      "metadata": {
        "id": "Pdx3kDiXXM_N",
        "colab": {
          "base_uri": "https://localhost:8080/",
          "height": 264
        },
        "outputId": "f08b4a06-1f26-4910-c511-8952808e2e7f"
      },
      "source": [
        "#Instead of creating a separate image for points2, it displays both the plots in the same figure \n",
        "# (both share the same axes)\n",
        "plt.plot(x.work_force, x.income, color=\"r\", label = 'work_force') \n",
        "plt.plot(x.physicians, x.income, label='physicians') \n",
        "\n",
        "# Adding a legend\n",
        "plt.legend()\n",
        "\n",
        "plt.show()"
      ],
      "execution_count": null,
      "outputs": [
        {
          "output_type": "display_data",
          "data": {
            "image/png": "[encoded data removed]",
            "text/plain": [
              "<Figure size 432x288 with 1 Axes>"
            ]
          },
          "metadata": {
            "tags": [],
            "needs_background": "light"
          }
        }
      ]
    },
    {
      "cell_type": "markdown",
      "metadata": {
        "id": "fGfDhL0QXM_Q"
      },
      "source": [
        "### 1.7. Multiple plots in one figure using `Matplotlib`\n",
        "We can make multiple graphics in one figure. This goes very well for comparing charts or for sharing data from several types of charts easily with a single image.\n",
        "\n",
        "The `.subplot()` method is used to add multiple plots in one figure. It takes three arguments: \n",
        "1. `nrows`: number of rows in the figure\n",
        "2. `ncols`: number of columns in the figure\n",
        "3. `index`: index of the plot\n",
        "\n",
        "Let's see how variables are plotted with different row and column configurations in the figures."
      ]
    },
    {
      "cell_type": "markdown",
      "metadata": {
        "id": "fz29wWQnqA0_"
      },
      "source": [
        "#### 1 row and 2 columns"
      ]
    },
    {
      "cell_type": "code",
      "metadata": {
        "id": "7NUKqHsIXM_R",
        "colab": {
          "base_uri": "https://localhost:8080/",
          "height": 294
        },
        "outputId": "e463aad0-f039-42b4-d4c9-83130f56df99"
      },
      "source": [
        "plt.subplot(1,2,1)  # row, column, index\n",
        "plt.plot(x.work_force, x.income, \"go\")\n",
        "plt.title(\"Income vs Work Force\")\n",
        "\n",
        "## plt.subplot(1,2,2) # row, column, index\n",
        "plt.subplot(1,2,2).label_outer()\n",
        "\n",
        "plt.plot(x.hospital_beds, x.income, \"r^\")\n",
        "plt.title(\"Income vs Hospital Beds\")\n",
        "\n",
        "plt.suptitle(\"Sub Plots\") # Add a centered title to the figure.\n",
        "plt.show()"
      ],
      "execution_count": null,
      "outputs": [
        {
          "output_type": "display_data",
          "data": {
            "image/png": "[encoded data removed]",
            "text/plain": [
              "<Figure size 432x288 with 2 Axes>"
            ]
          },
          "metadata": {
            "tags": [],
            "needs_background": "light"
          }
        }
      ]
    },
    {
      "cell_type": "markdown",
      "metadata": {
        "id": "kZu8F9LYqA1H"
      },
      "source": [
        "#### 2 rows and 1 column"
      ]
    },
    {
      "cell_type": "code",
      "metadata": {
        "id": "u62bOx6sXM_T",
        "colab": {
          "base_uri": "https://localhost:8080/",
          "height": 294
        },
        "outputId": "e19ad76e-f9f7-4662-c49d-4d2dfe62c7ba"
      },
      "source": [
        "plt.subplot(2,1,1) # row, column, index\n",
        "plt.plot(x.work_force, x.income, \"go\")\n",
        "\n",
        "plt.subplot(2,1,2) # row, column, index\n",
        "plt.plot(x.hospital_beds, x.income, \"r^\")\n",
        "\n",
        "plt.suptitle(\"Sub Plots\")\n",
        "plt.show()"
      ],
      "execution_count": null,
      "outputs": [
        {
          "output_type": "display_data",
          "data": {
            "image/png": "[encoded data removed]",
            "text/plain": [
              "<Figure size 432x288 with 2 Axes>"
            ]
          },
          "metadata": {
            "tags": [],
            "needs_background": "light"
          }
        }
      ]
    },
    {
      "cell_type": "markdown",
      "metadata": {
        "id": "0f5HvLsHqA1U"
      },
      "source": [
        "#### 2 rows and 2 columns"
      ]
    },
    {
      "cell_type": "code",
      "metadata": {
        "id": "bvLq_xMHXM_W",
        "colab": {
          "base_uri": "https://localhost:8080/",
          "height": 374
        },
        "outputId": "9e46c3ab-3c62-4726-dce7-7d2d99146124"
      },
      "source": [
        "fig, ax = plt.subplots(nrows=2, ncols=2, figsize=(6,6)) #creating a grid of 2 rows, 2 columns and 6x6 figure size\n",
        "ax[0,0].plot(x.work_force, x.income, \"go\") # The top-left axes\n",
        "ax[0,1].plot(x.work_force, x.income, \"bo\") # The top-right axes\n",
        "ax[1,0].plot(x.work_force, x.income, \"yo\") # The bottom-left axes\n",
        "ax[1,1].plot(x.work_force, x.income, \"ro\") # The bottom-right axes\n",
        "\n",
        "plt.show()"
      ],
      "execution_count": null,
      "outputs": [
        {
          "output_type": "display_data",
          "data": {
            "image/png": "[encoded data removed]",
            "text/plain": [
              "<Figure size 432x432 with 4 Axes>"
            ]
          },
          "metadata": {
            "tags": [],
            "needs_background": "light"
          }
        }
      ]
    },
    {
      "cell_type": "markdown",
      "metadata": {
        "id": "pU1pVFoJg4wj"
      },
      "source": [
        "As you have been able to detail, with the function `.subplots (nrows, ncols)` you can generalize the plotting in multiple locations of the figure."
      ]
    },
    {
      "cell_type": "markdown",
      "metadata": {
        "id": "lR9-zdiFXM_m"
      },
      "source": [
        "### 1.8. Histogram using `Matplotlib`\n",
        "\n",
        "Matplotlib can be used to create histograms using the hist() method. A histogram shows the frequency on the vertical axis and the horizontal axis is another dimension. Usually it has bins, where every bin has a minimum and maximum value. Each bin also has a frequency between x and infinite\n",
        "\n",
        "Histograms are a very common type of plots when we are looking at data like height and weight, stock prices, waiting time for a customer, etc which are continuous in nature. \n",
        "\n",
        "Parameters:\n",
        "- x(n,) : this takes either a single array or a sequence of arrays which are not required to be of the same length.\n",
        "- bins : If bins is an integer, it defines the number of equal-width bins in the range.\n",
        "\n",
        "    If bins is a sequence, it defines the bin edges, including the left edge of the first bin and the right edge \n",
        "    of the last bin; in this case, bins may be unequally spaced. All but the last (righthand-most) bin is half-\n",
        "    open. \n",
        "\n",
        "    In other words, if bins is:\n",
        "\n",
        "    [1, 2, 3, 4]\n",
        "\n",
        "    then the first bin is [1, 2) (including 1, but excluding 2) and the second [2, 3). The last bin, however, is \n",
        "    [3, 4], which includes 4.\n",
        "\n",
        "    If bins is a string, it is one of the binning strategies supported by numpy.histogram_bin_edges: 'auto', 'fd', \n",
        "    'doane', 'scott', 'stone', 'rice', 'sturges', or 'sqrt'.\n",
        "\n",
        "    The default is rcParams[\"hist.bins\"] (default: 10)."
      ]
    },
    {
      "cell_type": "code",
      "metadata": {
        "id": "9rG9TOXXXM_n",
        "colab": {
          "base_uri": "https://localhost:8080/",
          "height": 295
        },
        "outputId": "26ada251-2181-4c6a-98a4-b53e3e13be00"
      },
      "source": [
        "plt.title(\"Histogram\")\n",
        "plt.xlabel(\"Percentage of Senior Citizens\")\n",
        "plt.ylabel(\"Frequency\")\n",
        "\n",
        "plt.hist(x.percent_senior)\n",
        "plt.show()"
      ],
      "execution_count": null,
      "outputs": [
        {
          "output_type": "display_data",
          "data": {
            "image/png": "[encoded data removed]",
            "text/plain": [
              "<Figure size 432x288 with 1 Axes>"
            ]
          },
          "metadata": {
            "tags": [],
            "needs_background": "light"
          }
        }
      ]
    },
    {
      "cell_type": "markdown",
      "metadata": {
        "id": "TGwBnBzhXM_p"
      },
      "source": [
        "### 1.9. Additional resources\n",
        "\n",
        "https://www.datacamp.com/community/tutorials/matplotlib-tutorial-python\n",
        "\n",
        "https://appdividend.com/2019/01/26/matplotlib-tutorial-with-example-python-jupyter-notebook-course/"
      ]
    },
    {
      "cell_type": "markdown",
      "metadata": {
        "id": "cruYYRKFXM_q"
      },
      "source": [
        "## 2. Seaborn\n",
        "\n",
        "`Seaborn` is a Python data visualization library based on `Matplotlib`. It provides a high-level interface for creating attractive graphs, and statistical data visualization. \n",
        "\n",
        "Seaborn has a lot to offer. You can create graphs in one line that would take you multiple tens of lines in `Matplotlib`. Its standard designs are awesome and it also has a nice interface for working with pandas dataframes.\n",
        "\n",
        "In the following sections we will review how to graph with `seaborn`"
      ]
    },
    {
      "cell_type": "markdown",
      "metadata": {
        "id": "vZchNoVRqA2T"
      },
      "source": [
        "### 2.1. Importing seaborn"
      ]
    },
    {
      "cell_type": "code",
      "metadata": {
        "id": "2RkOVu34qA2U",
        "colab": {
          "base_uri": "https://localhost:8080/",
          "height": 51
        },
        "outputId": "e3d009f1-f1a4-4dd8-9156-b7354a70c24e"
      },
      "source": [
        "import seaborn as sns"
      ],
      "execution_count": null,
      "outputs": [
        {
          "output_type": "stream",
          "text": [
            "/usr/local/lib/python3.6/dist-packages/statsmodels/tools/_testing.py:19: FutureWarning: pandas.util.testing is deprecated. Use the functions in the public API at pandas.testing instead.\n",
            "  import pandas.util.testing as tm\n"
          ],
          "name": "stderr"
        }
      ]
    },
    {
      "cell_type": "markdown",
      "metadata": {
        "id": "04YAWIv6qA2Z"
      },
      "source": [
        "### 2.2. Loading data with seaborn"
      ]
    },
    {
      "cell_type": "code",
      "metadata": {
        "id": "2tpJk49BXM_q",
        "colab": {
          "base_uri": "https://localhost:8080/",
          "height": 346
        },
        "outputId": "bcdb909b-2323-4db6-bf5d-32d061ed3607"
      },
      "source": [
        "# Load iris data\n",
        "iris = sns.load_dataset(\"iris\")\n",
        "\n",
        "iris.sample(10)"
      ],
      "execution_count": null,
      "outputs": [
        {
          "output_type": "execute_result",
          "data": {
            "text/html": [
              "<div>\n",
              "<style scoped>\n",
              "    .dataframe tbody tr th:only-of-type {\n",
              "        vertical-align: middle;\n",
              "    }\n",
              "\n",
              "    .dataframe tbody tr th {\n",
              "        vertical-align: top;\n",
              "    }\n",
              "\n",
              "    .dataframe thead th {\n",
              "        text-align: right;\n",
              "    }\n",
              "</style>\n",
              "<table border=\"1\" class=\"dataframe\">\n",
              "  <thead>\n",
              "    <tr style=\"text-align: right;\">\n",
              "      <th></th>\n",
              "      <th>sepal_length</th>\n",
              "      <th>sepal_width</th>\n",
              "      <th>petal_length</th>\n",
              "      <th>petal_width</th>\n",
              "      <th>species</th>\n",
              "    </tr>\n",
              "  </thead>\n",
              "  <tbody>\n",
              "    <tr>\n",
              "      <th>22</th>\n",
              "      <td>4.6</td>\n",
              "      <td>3.6</td>\n",
              "      <td>1.0</td>\n",
              "      <td>0.2</td>\n",
              "      <td>setosa</td>\n",
              "    </tr>\n",
              "    <tr>\n",
              "      <th>112</th>\n",
              "      <td>6.8</td>\n",
              "      <td>3.0</td>\n",
              "      <td>5.5</td>\n",
              "      <td>2.1</td>\n",
              "      <td>virginica</td>\n",
              "    </tr>\n",
              "    <tr>\n",
              "      <th>116</th>\n",
              "      <td>6.5</td>\n",
              "      <td>3.0</td>\n",
              "      <td>5.5</td>\n",
              "      <td>1.8</td>\n",
              "      <td>virginica</td>\n",
              "    </tr>\n",
              "    <tr>\n",
              "      <th>84</th>\n",
              "      <td>5.4</td>\n",
              "      <td>3.0</td>\n",
              "      <td>4.5</td>\n",
              "      <td>1.5</td>\n",
              "      <td>versicolor</td>\n",
              "    </tr>\n",
              "    <tr>\n",
              "      <th>18</th>\n",
              "      <td>5.7</td>\n",
              "      <td>3.8</td>\n",
              "      <td>1.7</td>\n",
              "      <td>0.3</td>\n",
              "      <td>setosa</td>\n",
              "    </tr>\n",
              "    <tr>\n",
              "      <th>111</th>\n",
              "      <td>6.4</td>\n",
              "      <td>2.7</td>\n",
              "      <td>5.3</td>\n",
              "      <td>1.9</td>\n",
              "      <td>virginica</td>\n",
              "    </tr>\n",
              "    <tr>\n",
              "      <th>7</th>\n",
              "      <td>5.0</td>\n",
              "      <td>3.4</td>\n",
              "      <td>1.5</td>\n",
              "      <td>0.2</td>\n",
              "      <td>setosa</td>\n",
              "    </tr>\n",
              "    <tr>\n",
              "      <th>71</th>\n",
              "      <td>6.1</td>\n",
              "      <td>2.8</td>\n",
              "      <td>4.0</td>\n",
              "      <td>1.3</td>\n",
              "      <td>versicolor</td>\n",
              "    </tr>\n",
              "    <tr>\n",
              "      <th>135</th>\n",
              "      <td>7.7</td>\n",
              "      <td>3.0</td>\n",
              "      <td>6.1</td>\n",
              "      <td>2.3</td>\n",
              "      <td>virginica</td>\n",
              "    </tr>\n",
              "    <tr>\n",
              "      <th>117</th>\n",
              "      <td>7.7</td>\n",
              "      <td>3.8</td>\n",
              "      <td>6.7</td>\n",
              "      <td>2.2</td>\n",
              "      <td>virginica</td>\n",
              "    </tr>\n",
              "  </tbody>\n",
              "</table>\n",
              "</div>"
            ],
            "text/plain": [
              "     sepal_length  sepal_width  petal_length  petal_width     species\n",
              "22            4.6          3.6           1.0          0.2      setosa\n",
              "112           6.8          3.0           5.5          2.1   virginica\n",
              "116           6.5          3.0           5.5          1.8   virginica\n",
              "84            5.4          3.0           4.5          1.5  versicolor\n",
              "18            5.7          3.8           1.7          0.3      setosa\n",
              "111           6.4          2.7           5.3          1.9   virginica\n",
              "7             5.0          3.4           1.5          0.2      setosa\n",
              "71            6.1          2.8           4.0          1.3  versicolor\n",
              "135           7.7          3.0           6.1          2.3   virginica\n",
              "117           7.7          3.8           6.7          2.2   virginica"
            ]
          },
          "metadata": {
            "tags": []
          },
          "execution_count": 21
        }
      ]
    },
    {
      "cell_type": "markdown",
      "metadata": {
        "id": "DlQilpP0qA2n"
      },
      "source": [
        "### 2.3. Scatter Plot using `Seaborn`"
      ]
    },
    {
      "cell_type": "code",
      "metadata": {
        "id": "lZQav-PwXM_1",
        "colab": {
          "base_uri": "https://localhost:8080/",
          "height": 282
        },
        "outputId": "8fa847be-4297-45d3-df40-d5f34607e110"
      },
      "source": [
        "sns.scatterplot(x='sepal_length', y='sepal_width', data=iris)\n",
        "plt.show()"
      ],
      "execution_count": null,
      "outputs": [
        {
          "output_type": "display_data",
          "data": {
            "image/png": "[encoded data removed]",
            "text/plain": [
              "<Figure size 432x288 with 1 Axes>"
            ]
          },
          "metadata": {
            "tags": [],
            "needs_background": "light"
          }
        }
      ]
    },
    {
      "cell_type": "markdown",
      "metadata": {
        "id": "dsDMoRZlqA2j"
      },
      "source": [
        "### 2.4. Swarm Plot using `Seaborn`"
      ]
    },
    {
      "cell_type": "code",
      "metadata": {
        "id": "6lvOpwZoXM_u",
        "colab": {
          "base_uri": "https://localhost:8080/",
          "height": 279
        },
        "outputId": "ad49bec7-703d-4323-b535-402514cecf6e"
      },
      "source": [
        "# Construct swarm plot for sepcies vs petal_length\n",
        "sns.swarmplot(x=\"species\", y=\"petal_length\", data=iris)\n",
        "\n",
        "# Show plot\n",
        "plt.show()"
      ],
      "execution_count": null,
      "outputs": [
        {
          "output_type": "display_data",
          "data": {
            "image/png": "[encoded data removed]",
            "text/plain": [
              "<Figure size 432x288 with 1 Axes>"
            ]
          },
          "metadata": {
            "tags": [],
            "needs_background": "light"
          }
        }
      ]
    },
    {
      "cell_type": "markdown",
      "metadata": {
        "id": "BvBEKDMwqA2t"
      },
      "source": [
        "### 2.5. Heatmap using `Seaborn`"
      ]
    },
    {
      "cell_type": "markdown",
      "metadata": {
        "id": "oqDG_LsUqA2u"
      },
      "source": [
        "A Heatmap is a graphical representation of data where the individual values contained in a matrix are represented as colors.\n",
        "\n",
        "Seaborn heatmaps are appealing to the eyes, and they tend to send clear messages about data almost immediately. This is why this method for correlation matrix visualization ( exploring the correlation of features in a dataset) is widely used by data analysts and data scientists alike.\n",
        "\n",
        "Correlation is a measure of the strength of a linear relationship between two quantitative variables. \n",
        "(We'll study more about correlation in the upcoming week)\n",
        "\n",
        "To get the correlation of the features inside a dataset we can call <dataset>.corr(), which is a Pandas dataframe method. This will give us the correlation matrix."
      ]
    },
    {
      "cell_type": "code",
      "metadata": {
        "id": "3HgTdZRKqA2v",
        "colab": {
          "base_uri": "https://localhost:8080/",
          "height": 269
        },
        "outputId": "c70c6bdf-976d-4a81-d15a-82946969fd25"
      },
      "source": [
        "# Correlation matrix completely ignores any non-numeric column. \n",
        "sns.heatmap(iris.corr(), annot=True)\n",
        "plt.show()"
      ],
      "execution_count": null,
      "outputs": [
        {
          "output_type": "display_data",
          "data": {
            "image/png": "[encoded data removed]",
            "text/plain": [
              "<Figure size 432x288 with 2 Axes>"
            ]
          },
          "metadata": {
            "tags": [],
            "needs_background": "light"
          }
        }
      ]
    },
    {
      "cell_type": "markdown",
      "metadata": {
        "id": "AK1QAkGPwmBV"
      },
      "source": [
        "- Each square shows the correlation between the variables on each axis. \n",
        "- Correlation ranges from -1 to +1. \n",
        "- Values closer to zero means there is no linear trend between the two variables. \n",
        "- The more close to 1 the correlation is the more positively correlated they are; that is as one increases so does the other. \n",
        "- A correlation closer to -1 is similar, but instead of both increasing one variable will decrease as the other increases."
      ]
    },
    {
      "cell_type": "markdown",
      "metadata": {
        "id": "X24Td_Dq_4iQ"
      },
      "source": [
        "_That's it with the basic Matplotlib and Seaborn commands. Let out your creativity and make beautiful, insightful plots!_"
      ]
    },
    {
      "cell_type": "markdown",
      "metadata": {
        "id": "smQYW58WfXer"
      },
      "source": [
        "## 3. Optional - Additional Reading"
      ]
    },
    {
      "cell_type": "markdown",
      "metadata": {
        "id": "bomCmrO3XM_Y"
      },
      "source": [
        "### 3.1. Bar Chart using `Matplotlib` \n",
        "\n",
        "Bar charts are one of the most common types of graphs and are used to show data associated with the categorical variables.\n",
        "\n",
        "`Pyplot` provides a `bar()` method to make bar graphs which take the following arguments: categorical variables, their values and color (if you want to specify any). Let's see some ways to display a bar graph with `matplotlib`:"
      ]
    },
    {
      "cell_type": "markdown",
      "metadata": {
        "id": "6108eBfF5AB0"
      },
      "source": [
        "![Horizontal and Vertical Bar Charts](https://depictdatastudio.com/wp-content/uploads/2017/01/Depict-Data-Studio_Bar-Charts_Vertical-or-Horizontal.jpg)\n",
        "\n",
        "<div style=\"font-size: 12px\", align=\"center\">\n",
        "    Figure 3. Horizontal and Vertical Bar Charts\n",
        "</div >"
      ]
    },
    {
      "cell_type": "code",
      "source": [
        "x.region.value_counts().plot(kind=\"bar\")"
      ],
      "metadata": {
        "colab": {
          "base_uri": "https://localhost:8080/",
          "height": 279
        },
        "id": "wcx2lAI51IGB",
        "outputId": "1f32b879-1602-4b8b-8a0a-304e6ae5394c"
      },
      "execution_count": 23,
      "outputs": [
        {
          "output_type": "execute_result",
          "data": {
            "text/plain": [
              "<matplotlib.axes._subplots.AxesSubplot at 0x7fbb98d8d390>"
            ]
          },
          "metadata": {},
          "execution_count": 23
        },
        {
          "output_type": "display_data",
          "data": {
            "text/plain": [
              "<Figure size 432x288 with 1 Axes>"
            ],
            "image/png": "[encoded data removed]"
          },
          "metadata": {
            "needs_background": "light"
          }
        }
      ]
    },
    {
      "cell_type": "markdown",
      "metadata": {
        "id": "0Yv0p6G7qA1g"
      },
      "source": [
        "####  Vertical Bar Charts"
      ]
    },
    {
      "cell_type": "code",
      "metadata": {
        "id": "vepzkE6wXM_Z",
        "colab": {
          "base_uri": "https://localhost:8080/",
          "height": 235
        },
        "outputId": "7d99733d-c4df-45e9-9de6-42f986fc8f72"
      },
      "source": [
        "plt.bar(x=x.region.value_counts().index,y=x.region.value_counts().values ,color=\"green\")\n",
        "\n",
        "plt.title(\"Bar Graph\")\n",
        "plt.xlabel(\"Region\")\n",
        "plt.ylabel(\"Crime Rate\")\n",
        "plt.show()"
      ],
      "execution_count": 21,
      "outputs": [
        {
          "output_type": "error",
          "ename": "TypeError",
          "evalue": "ignored",
          "traceback": [
            "\u001b[0;31m---------------------------------------------------------------------------\u001b[0m",
            "\u001b[0;31mTypeError\u001b[0m                                 Traceback (most recent call last)",
            "\u001b[0;32m<ipython-input-21-e36e3a6b760e>\u001b[0m in \u001b[0;36m<module>\u001b[0;34m\u001b[0m\n\u001b[0;32m----> 1\u001b[0;31m \u001b[0mplt\u001b[0m\u001b[0;34m.\u001b[0m\u001b[0mbar\u001b[0m\u001b[0;34m(\u001b[0m\u001b[0mx\u001b[0m\u001b[0;34m=\u001b[0m\u001b[0mx\u001b[0m\u001b[0;34m.\u001b[0m\u001b[0mregion\u001b[0m\u001b[0;34m.\u001b[0m\u001b[0mvalue_counts\u001b[0m\u001b[0;34m(\u001b[0m\u001b[0;34m)\u001b[0m\u001b[0;34m.\u001b[0m\u001b[0mindex\u001b[0m\u001b[0;34m,\u001b[0m\u001b[0my\u001b[0m\u001b[0;34m=\u001b[0m\u001b[0mx\u001b[0m\u001b[0;34m.\u001b[0m\u001b[0mregion\u001b[0m\u001b[0;34m.\u001b[0m\u001b[0mvalue_counts\u001b[0m\u001b[0;34m(\u001b[0m\u001b[0;34m)\u001b[0m\u001b[0;34m.\u001b[0m\u001b[0mvalues\u001b[0m \u001b[0;34m,\u001b[0m\u001b[0mcolor\u001b[0m\u001b[0;34m=\u001b[0m\u001b[0;34m\"green\"\u001b[0m\u001b[0;34m)\u001b[0m\u001b[0;34m\u001b[0m\u001b[0;34m\u001b[0m\u001b[0m\n\u001b[0m\u001b[1;32m      2\u001b[0m \u001b[0;34m\u001b[0m\u001b[0m\n\u001b[1;32m      3\u001b[0m \u001b[0mplt\u001b[0m\u001b[0;34m.\u001b[0m\u001b[0mtitle\u001b[0m\u001b[0;34m(\u001b[0m\u001b[0;34m\"Bar Graph\"\u001b[0m\u001b[0;34m)\u001b[0m\u001b[0;34m\u001b[0m\u001b[0;34m\u001b[0m\u001b[0m\n\u001b[1;32m      4\u001b[0m \u001b[0mplt\u001b[0m\u001b[0;34m.\u001b[0m\u001b[0mxlabel\u001b[0m\u001b[0;34m(\u001b[0m\u001b[0;34m\"Region\"\u001b[0m\u001b[0;34m)\u001b[0m\u001b[0;34m\u001b[0m\u001b[0;34m\u001b[0m\u001b[0m\n\u001b[1;32m      5\u001b[0m \u001b[0mplt\u001b[0m\u001b[0;34m.\u001b[0m\u001b[0mylabel\u001b[0m\u001b[0;34m(\u001b[0m\u001b[0;34m\"Crime Rate\"\u001b[0m\u001b[0;34m)\u001b[0m\u001b[0;34m\u001b[0m\u001b[0;34m\u001b[0m\u001b[0m\n",
            "\u001b[0;31mTypeError\u001b[0m: bar() missing 1 required positional argument: 'height'"
          ]
        }
      ]
    },
    {
      "cell_type": "markdown",
      "metadata": {
        "id": "cSVr546LqA1n"
      },
      "source": [
        "#### Horizontal Bar Charts"
      ]
    },
    {
      "cell_type": "markdown",
      "metadata": {
        "id": "s1wI36WOqA1o"
      },
      "source": [
        "It’s also really simple to make a horizontal bar-chart using the plot.barh() method."
      ]
    },
    {
      "cell_type": "code",
      "metadata": {
        "id": "HIDWcbB-XM_b",
        "colab": {
          "base_uri": "https://localhost:8080/",
          "height": 280
        },
        "outputId": "e19785e3-dcc2-4c9e-c846-655a361dd663"
      },
      "source": [
        "plt.barh(x.region, x.crime_rate, color=\"green\")\n",
        "plt.title(\"Bar Graph\")\n",
        "plt.show()"
      ],
      "execution_count": null,
      "outputs": [
        {
          "output_type": "display_data",
          "data": {
            "image/png": "[encoded data removed]",
            "text/plain": [
              "<Figure size 432x288 with 1 Axes>"
            ]
          },
          "metadata": {
            "tags": [],
            "needs_background": "light"
          }
        }
      ]
    },
    {
      "cell_type": "markdown",
      "metadata": {
        "id": "zVU6J5RGqA1w"
      },
      "source": [
        "####  Bar Charts with multiple quantities"
      ]
    },
    {
      "cell_type": "markdown",
      "metadata": {
        "id": "4zEEGcvEqA1x"
      },
      "source": [
        "When comparing several quantities and when changing one variable, we might want a bar chart where we have bars of one color for one quantity value.\n",
        "\n",
        "We can plot multiple bar charts by playing with the thickness and the positions of the bars."
      ]
    },
    {
      "cell_type": "code",
      "metadata": {
        "id": "MB0aTBfoXM_e",
        "colab": {
          "base_uri": "https://localhost:8080/",
          "height": 295
        },
        "outputId": "6eb077a0-388b-4b76-e07b-42f71895da42"
      },
      "source": [
        "divisions = [\"A\", \"B\", \"C\", \"D\", \"E\"]\n",
        "division_avg = [70, 82, 73, 65, 68]\n",
        "boys_avg = [68, 67, 77, 61, 70]\n",
        "\n",
        "# Using the NumPy arange function to generate values for index between 0-4.\n",
        "# Here,stop is 5, start is 0, and step is 1\n",
        "index = np.arange(5) \n",
        "width = 0.30\n",
        "\n",
        "plt.bar(index, division_avg, width, color=\"green\", label=\"Division Marks\")\n",
        "plt.bar(index+width, boys_avg, width, color=\"blue\", label=\"Boys Marks\")\n",
        "\n",
        "plt.title(\"Bar Graph\")\n",
        "plt.xlabel(\"Divisions\")\n",
        "plt.ylabel(\"Marks\")\n",
        "plt.show()"
      ],
      "execution_count": null,
      "outputs": [
        {
          "output_type": "display_data",
          "data": {
            "image/png": "[encoded data removed]",
            "text/plain": [
              "<Figure size 432x288 with 1 Axes>"
            ]
          },
          "metadata": {
            "tags": [],
            "needs_background": "light"
          }
        }
      ]
    },
    {
      "cell_type": "markdown",
      "metadata": {
        "id": "hgBp9bs-qA14"
      },
      "source": [
        "####  Stacked Bar Chart"
      ]
    },
    {
      "cell_type": "markdown",
      "metadata": {
        "id": "XSQTQkJHqA17"
      },
      "source": [
        "The stacked bar chart stacks bars that represent different groups on top of each other. The height of the resulting bar shows the combined result of the groups.\n",
        "\n",
        "The optional bottom parameter of the pyplot.bar() function allows you to specify a starting value for a bar. Instead of running from zero to a value, it will go from the bottom to the value. The first call to pyplot.bar() plots the blue bars. The second call to pyplot.bar() plots the green bars, with the bottom of the blue bars being at the top of the green bars."
      ]
    },
    {
      "cell_type": "code",
      "metadata": {
        "id": "5KUmyUHKXM_h",
        "colab": {
          "base_uri": "https://localhost:8080/",
          "height": 295
        },
        "outputId": "10e6b02a-1a5e-4363-ca5d-31b413f0fa58"
      },
      "source": [
        "divisions = [\"A\", \"B\", \"C\", \"D\", \"E\"]\n",
        "girls_avg = [72, 97, 69, 69, 66]\n",
        "boys_avg = [68, 67, 77, 61, 70]\n",
        "\n",
        "index = np.arange(5)\n",
        "width = 0.50\n",
        "\n",
        "plt.bar(index, boys_avg, width, color=\"green\", label=\"Boys Marks\")\n",
        "plt.bar(index, girls_avg, width, color=\"blue\", label=\"Girls Marks\", bottom=boys_avg)\n",
        "\n",
        "plt.title(\"Bar Graph\")\n",
        "plt.xlabel(\"Divisions\")\n",
        "plt.ylabel(\"Marks\")\n",
        "plt.show()"
      ],
      "execution_count": null,
      "outputs": [
        {
          "output_type": "display_data",
          "data": {
            "image/png": "[encoded data removed]",
            "text/plain": [
              "<Figure size 432x288 with 1 Axes>"
            ]
          },
          "metadata": {
            "tags": [],
            "needs_background": "light"
          }
        }
      ]
    },
    {
      "cell_type": "markdown",
      "metadata": {
        "id": "Ar-8zmQ8XM_j"
      },
      "source": [
        "### 3.2. Pie Chart using `Matplotlib`\n",
        "One more basic type of chart is a Pie chart which can be made using the method pie().\n",
        "\n",
        "Pie charts show the size of items (called wedge) in one data series, proportional to the sum of the items. The data points in a pie chart are shown as a percentage of the whole pie\n",
        "\n",
        "Parameters of a pie chart:\n",
        "- x: array-like. The wedge sizes.\n",
        "- labels: list. A sequence of strings providing the labels for each wedge.\n",
        "- Colors: A sequence of matplotlibcolorargs through which the pie chart will cycle. If None, will use the colors in the currently active cycle.\n",
        "- Autopct: string, used to label the wedges with their numeric value. The label will be placed inside the wedge. The format string will be fmt%pct.\n",
        "\n",
        "We can also pass in arguments to customize our Pie chart to show shadow, explode a part of it, tilt it at an angle as follows:"
      ]
    },
    {
      "cell_type": "code",
      "metadata": {
        "id": "Lv8yMWLWXM_k",
        "colab": {
          "base_uri": "https://localhost:8080/",
          "height": 250
        },
        "outputId": "01690e27-9517-47df-a694-f7f72ecfaa90"
      },
      "source": [
        "firms = [\"Firm A\", \"Firm B\", \"Firm C\", \"Firm D\", \"Firm E\"]\n",
        "market_share = [20,25,15,10,20]\n",
        "\n",
        "# Explode the pie chart to emphasize a certain part or some parts( Firm B in this case) \n",
        "# It is useful because it makes the highlighted portion more visible.\n",
        "Explode = [0,0.1,0,0,0] \n",
        "\n",
        "plt.pie(market_share, explode=Explode, labels=firms, autopct='%1.1f%%', startangle=45)\n",
        "\n",
        "plt.axis('equal') # Equal aspect ratio ensures that pie is drawn as a circle.\n",
        "\n",
        "plt.legend(title=\"List of Firms\")\n",
        "\n",
        "plt.show()"
      ],
      "execution_count": null,
      "outputs": [
        {
          "output_type": "display_data",
          "data": {
            "image/png": "[encoded data removed]",
            "text/plain": [
              "<Figure size 432x288 with 1 Axes>"
            ]
          },
          "metadata": {
            "tags": []
          }
        }
      ]
    }
  ]
}